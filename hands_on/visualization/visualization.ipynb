{
 "cells": [
  {
   "cell_type": "markdown",
   "id": "97d4a9da-f5b5-42f4-aab8-3590a22c2a70",
   "metadata": {},
   "source": [
    "# Visualization\n",
    "\n",
    "This tutorial will show some of the available interactive visualizations that are available in (or compatible with) SpikeInterface."
   ]
  },
  {
   "cell_type": "code",
   "execution_count": 5,
   "id": "66f5bcec-c831-4e62-8b3f-03ce04069e71",
   "metadata": {},
   "outputs": [],
   "source": [
    "from pathlib import Path\n",
    "\n",
    "\n",
    "import spikeinterface as si\n",
    "import spikeinterface.preprocessing as spre\n",
    "import spikeinterface.postprocessing as spost\n",
    "import spikeinterface.curation as scur\n",
    "import spikeinterface.widgets as sw\n",
    "import spikeinterface.qualitymetrics"
   ]
  },
  {
   "cell_type": "code",
   "execution_count": 6,
   "id": "f86ddf87-da51-48d7-bb51-7f0dcc36f008",
   "metadata": {},
   "outputs": [],
   "source": [
    "si.set_global_job_kwargs(n_jobs=-1, progress_bar=True)"
   ]
  },
  {
   "cell_type": "markdown",
   "id": "b6b179df-d7f7-41c0-98dc-cf36cadb5869",
   "metadata": {},
   "source": [
    "Let's first load some data:"
   ]
  },
  {
   "cell_type": "code",
   "execution_count": 7,
   "id": "384ce969-f10c-4ab8-9944-f23dabe03ac9",
   "metadata": {},
   "outputs": [],
   "source": [
    "base_folder = Path('/home/samuel/DataSpikeSorting/gdr2024_tutorials/')"
   ]
  },
  {
   "cell_type": "code",
   "execution_count": 9,
   "id": "dbe85b4c-9eb7-4eb7-9fee-ea373f57af7b",
   "metadata": {},
   "outputs": [],
   "source": [
    "postprocessing_folder = base_folder / \"postprocessing_data\"\n",
    "\n",
    "recording = si.load_extractor(postprocessing_folder / \"recording\")\n",
    "sorting = si.load_extractor(postprocessing_folder / \"sorting_mysterious\")"
   ]
  },
  {
   "cell_type": "code",
   "execution_count": 11,
   "id": "eb772959-6bf4-4ab7-bb54-a4b0e3919f57",
   "metadata": {},
   "outputs": [
    {
     "data": {
      "text/html": [
       "<div style='border:1px solid #ddd; padding:10px;'><strong>BinaryFolderRecording: 32 channels - 30.0kHz - 1 segments - 4,500,000 samples - 150.00s (2.50 minutes) - float32 dtype - 549.32 MiB</strong></div><details style='margin-left: 10px;'>  <summary><strong>Channel IDs</strong></summary><ul>[ 0  1  2  3  4  5  6  7  8  9 10 11 12 13 14 15 16 17 18 19 20 21 22 23\n",
       " 24 25 26 27 28 29 30 31] </details><details style='margin-left: 10px;'>  <summary><strong>Annotations</strong></summary><ul><li> <strong> is_filtered </strong>: False</li><li> <strong> probe_0_planar_contour </strong>: [[-25.0, 340.0], [-25.0, -40.0], [30.0, -140.0], [85.0, -40.0], [85.0, 340.0]]</li><li> <strong> probes_info </strong>: [{}]</li></ul> </details><details style='margin-left: 10px;'><summary><strong>Channel Properties</strong></summary><ul><details><summary> <strong> contact_vector </strong> </summary>[(0,  0.,   0., 'circle', 8., '', '0',  0, 'um', 1., 0., 0., 1.)\n",
       " (0,  0.,  30., 'circle', 8., '', '1',  1, 'um', 1., 0., 0., 1.)\n",
       " (0,  0.,  60., 'circle', 8., '', '2',  2, 'um', 1., 0., 0., 1.)\n",
       " (0,  0.,  90., 'circle', 8., '', '3',  3, 'um', 1., 0., 0., 1.)\n",
       " (0,  0., 120., 'circle', 8., '', '4',  4, 'um', 1., 0., 0., 1.)\n",
       " (0,  0., 150., 'circle', 8., '', '5',  5, 'um', 1., 0., 0., 1.)\n",
       " (0,  0., 180., 'circle', 8., '', '6',  6, 'um', 1., 0., 0., 1.)\n",
       " (0,  0., 210., 'circle', 8., '', '7',  7, 'um', 1., 0., 0., 1.)\n",
       " (0,  0., 240., 'circle', 8., '', '8',  8, 'um', 1., 0., 0., 1.)\n",
       " (0,  0., 270., 'circle', 8., '', '9',  9, 'um', 1., 0., 0., 1.)\n",
       " (0, 30., -15., 'circle', 8., '', '10', 10, 'um', 1., 0., 0., 1.)\n",
       " (0, 30.,  15., 'circle', 8., '', '11', 11, 'um', 1., 0., 0., 1.)\n",
       " (0, 30.,  45., 'circle', 8., '', '12', 12, 'um', 1., 0., 0., 1.)\n",
       " (0, 30.,  75., 'circle', 8., '', '13', 13, 'um', 1., 0., 0., 1.)\n",
       " (0, 30., 105., 'circle', 8., '', '14', 14, 'um', 1., 0., 0., 1.)\n",
       " (0, 30., 135., 'circle', 8., '', '15', 15, 'um', 1., 0., 0., 1.)\n",
       " (0, 30., 165., 'circle', 8., '', '16', 16, 'um', 1., 0., 0., 1.)\n",
       " (0, 30., 195., 'circle', 8., '', '17', 17, 'um', 1., 0., 0., 1.)\n",
       " (0, 30., 225., 'circle', 8., '', '18', 18, 'um', 1., 0., 0., 1.)\n",
       " (0, 30., 255., 'circle', 8., '', '19', 19, 'um', 1., 0., 0., 1.)\n",
       " (0, 30., 285., 'circle', 8., '', '20', 20, 'um', 1., 0., 0., 1.)\n",
       " (0, 30., 315., 'circle', 8., '', '21', 21, 'um', 1., 0., 0., 1.)\n",
       " (0, 60.,   0., 'circle', 8., '', '22', 22, 'um', 1., 0., 0., 1.)\n",
       " (0, 60.,  30., 'circle', 8., '', '23', 23, 'um', 1., 0., 0., 1.)\n",
       " (0, 60.,  60., 'circle', 8., '', '24', 24, 'um', 1., 0., 0., 1.)\n",
       " (0, 60.,  90., 'circle', 8., '', '25', 25, 'um', 1., 0., 0., 1.)\n",
       " (0, 60., 120., 'circle', 8., '', '26', 26, 'um', 1., 0., 0., 1.)\n",
       " (0, 60., 150., 'circle', 8., '', '27', 27, 'um', 1., 0., 0., 1.)\n",
       " (0, 60., 180., 'circle', 8., '', '28', 28, 'um', 1., 0., 0., 1.)\n",
       " (0, 60., 210., 'circle', 8., '', '29', 29, 'um', 1., 0., 0., 1.)\n",
       " (0, 60., 240., 'circle', 8., '', '30', 30, 'um', 1., 0., 0., 1.)\n",
       " (0, 60., 270., 'circle', 8., '', '31', 31, 'um', 1., 0., 0., 1.)]</details><details><summary> <strong> location </strong> </summary>[[  0.   0.]\n",
       " [  0.  30.]\n",
       " [  0.  60.]\n",
       " [  0.  90.]\n",
       " [  0. 120.]\n",
       " [  0. 150.]\n",
       " [  0. 180.]\n",
       " [  0. 210.]\n",
       " [  0. 240.]\n",
       " [  0. 270.]\n",
       " [ 30. -15.]\n",
       " [ 30.  15.]\n",
       " [ 30.  45.]\n",
       " [ 30.  75.]\n",
       " [ 30. 105.]\n",
       " [ 30. 135.]\n",
       " [ 30. 165.]\n",
       " [ 30. 195.]\n",
       " [ 30. 225.]\n",
       " [ 30. 255.]\n",
       " [ 30. 285.]\n",
       " [ 30. 315.]\n",
       " [ 60.   0.]\n",
       " [ 60.  30.]\n",
       " [ 60.  60.]\n",
       " [ 60.  90.]\n",
       " [ 60. 120.]\n",
       " [ 60. 150.]\n",
       " [ 60. 180.]\n",
       " [ 60. 210.]\n",
       " [ 60. 240.]\n",
       " [ 60. 270.]]</details><details><summary> <strong> group </strong> </summary>[0 0 0 0 0 0 0 0 0 0 0 0 0 0 0 0 0 0 0 0 0 0 0 0 0 0 0 0 0 0 0 0]</details><details><summary> <strong> noise_level_mad_scaled </strong> </summary>[13.506403 14.206947 13.574313 13.170891 13.019167 14.650648 13.869215\n",
       " 15.192503 14.209538 14.123912 14.655599 14.264806 12.326139 12.231261\n",
       " 12.291814 13.896568 12.795404 14.023933 15.024    13.965727 14.527239\n",
       " 14.242449 13.395384 14.24484  12.838155 14.00291  12.774455 15.227361\n",
       " 13.360342 15.0989   14.999245 14.826184]</details></ul></details>"
      ],
      "text/plain": [
       "BinaryFolderRecording: 32 channels - 30.0kHz - 1 segments - 4,500,000 samples \n",
       "                       150.00s (2.50 minutes) - float32 dtype - 549.32 MiB"
      ]
     },
     "execution_count": 11,
     "metadata": {},
     "output_type": "execute_result"
    }
   ],
   "source": [
    "recording"
   ]
  },
  {
   "cell_type": "code",
   "execution_count": 12,
   "id": "e11d6bf6-2f67-4175-a333-5b98fcdc93db",
   "metadata": {},
   "outputs": [
    {
     "data": {
      "text/html": [
       "<div style='border:1px solid #ddd; padding:10px;'><strong>NumpyFolder: 74 units - 1 segments - 30.0kHz</strong></div><details style='margin-left: 10px;'>  <summary><strong>Unit IDs</strong></summary><ul>[ 0  1  2  3  4  5  6  7  8  9 10 11 12 13 14 15 16 17 18 19 20 21 22 23\n",
       " 24 25 26 27 28 29 30 31 32 33 34 35 36 37 38 39 40 41 42 43 44 45 46 47\n",
       " 48 49 50 51 52 53 54 55 56 57 58 59 60 61 62 63 64 65 66 67 68 69 70 71\n",
       " 73 74] </details><details style='margin-left: 10px;'>  <summary><strong>Annotations</strong></summary><ul><li> <strong> __sorting_info__ </strong>: {'recording': {'class': 'spikeinterface.core.binaryfolder.BinaryFolderRecording', 'module': 'spikeinterface', 'version': '0.101.1', 'kwargs': {'folder_path': '/home/samuel/DataSpikeSorting/gdr2024_tutorials/postprocessing_data/recording'}, 'annotations': {'is_filtered': False, 'probe_0_planar_contour': [[-25.0, 340.0], [-25.0, -40.0], [30.0, -140.0], [85.0, -40.0], [85.0, 340.0]], 'probes_info': [{}]}, 'properties': {'group': [0, 0, 0, 0, 0, 0, 0, 0, 0, 0, 0, 0, 0, 0, 0, 0, 0, 0, 0, 0, 0, 0, 0, 0, 0, 0, 0, 0, 0, 0, 0, 0], 'location': [[0.0, 0.0], [0.0, 30.0], [0.0, 60.0], [0.0, 90.0], [0.0, 120.0], [0.0, 150.0], [0.0, 180.0], [0.0, 210.0], [0.0, 240.0], [0.0, 270.0], [30.0, -15.0], [30.0, 15.0], [30.0, 45.0], [30.0, 75.0], [30.0, 105.0], [30.0, 135.0], [30.0, 165.0], [30.0, 195.0], [30.0, 225.0], [30.0, 255.0], [30.0, 285.0], [30.0, 315.0], [60.0, 0.0], [60.0, 30.0], [60.0, 60.0], [60.0, 90.0], [60.0, 120.0], [60.0, 150.0], [60.0, 180.0], [60.0, 210.0], [60.0, 240.0], [60.0, 270.0]], 'gain_to_uV': None, 'offset_to_uV': None}, 'relative_paths': False}, 'params': {'sorter_name': 'spykingcircus2', 'sorter_params': {'general': {'ms_before': 2, 'ms_after': 2, 'radius_um': 75}, 'sparsity': {'method': 'snr', 'amplitude_mode': 'peak_to_peak', 'threshold': 0.25}, 'filtering': {'freq_min': 150, 'freq_max': 7000, 'ftype': 'bessel', 'filter_order': 2}, 'whitening': {'mode': 'local', 'regularize': False}, 'detection': {'peak_sign': 'neg', 'detect_threshold': 4}, 'selection': {'method': 'uniform', 'n_peaks_per_channel': 5000, 'min_n_peaks': 100000, 'select_per_channel': False, 'seed': 42}, 'apply_motion_correction': True, 'motion_correction': {'preset': 'dredge_fast', 'estimate_motion_kwargs': {'rigid': True}}, 'merging': {'similarity_kwargs': {'method': 'cosine', 'support': 'union', 'max_lag_ms': 0.2}, 'correlograms_kwargs': {}, 'auto_merge': {'min_spikes': 10, 'corr_diff_thresh': 0.25}}, 'clustering': {'legacy': True}, 'matching': {'method': 'circus-omp-svd'}, 'apply_preprocessing': True, 'matched_filtering': True, 'cache_preprocessing': {'mode': 'memory', 'memory_limit': 0.5, 'delete_cache': True}, 'multi_units_only': False, 'job_kwargs': {'n_jobs': 0.8}, 'debug': False}}, 'log': {'sorter_name': 'spykingcircus2', 'sorter_version': '2.0', 'datetime': '2024-10-30T14:06:09.333879', 'runtime_trace': [], 'error': False, 'run_time': 70.30079449499999}}</li></details><details style='margin-left: 10px;'><summary><strong>Unit Properties</strong></summary><ul></ul></details>"
      ],
      "text/plain": [
       "NumpyFolder: 74 units - 1 segments - 30.0kHz"
      ]
     },
     "execution_count": 12,
     "metadata": {},
     "output_type": "execute_result"
    }
   ],
   "source": [
    "sorting"
   ]
  },
  {
   "cell_type": "markdown",
   "id": "57f6fde2-2b2d-4dcc-8b45-6e55446b439c",
   "metadata": {},
   "source": [
    "## sortingview\n",
    "\n",
    "\n",
    "[sortingview](https://github.com/magland/sortingview) is a Python package developed by Jeremy Magland that visualizes ephys data in the cloud.\n",
    "\n",
    "It uses the [figurl](https://github.com/flatironinstitute/figurl/blob/main/README.md) technology to push the visualization data to the cloud and produce self-contained URL link that points will allow you to visualize and interact with the data from any computer connected to the internet.\n",
    "\n",
    "Pretty cool, right??\n",
    "\n",
    "To get started, you just need to run this command, click on the link, and login with your GitHub account:"
   ]
  },
  {
   "cell_type": "code",
   "execution_count": 15,
   "id": "fe3af495-a7a3-4860-ba3b-b22a7558a294",
   "metadata": {},
   "outputs": [
    {
     "name": "stdout",
     "output_type": "stream",
     "text": [
      "This client has already been registered.\n",
      "Click the following link to configure the client:\n",
      "https://kachery-gateway.figurl.org/client/6cd89860530568052bfbe3b89694bbdae8802105fa03871595358e9359f88f62\n",
      "\n",
      "Client ID: 6cd89860530568052bfbe3b89694bbdae8802105fa03871595358e9359f88f62\n",
      "Label: dell-sam\n",
      "Owner: samuelgarcia\n",
      "\n",
      "* Kachery-cloud is intended for collaborative sharing of data for scientific research. It should not be used for other purposes.\n"
     ]
    }
   ],
   "source": [
    "!kachery-cloud-init"
   ]
  },
  {
   "cell_type": "markdown",
   "id": "f1ff3f17-37e3-486b-998f-b01ea245a8af",
   "metadata": {},
   "source": [
    "There are a few plot_* functions that support `sortingview` as backend, but the two most useful ones are the:\n",
    "\n",
    "- `plot_traces()`\n",
    "- `plot_sorting_summary()`"
   ]
  },
  {
   "cell_type": "markdown",
   "id": "5b4ad7ae-314e-4697-8691-207d89e7bdbd",
   "metadata": {},
   "source": [
    "### plot_traces()"
   ]
  },
  {
   "cell_type": "code",
   "execution_count": 17,
   "id": "99050430-e5ad-40dc-a03a-9c1aa039efc3",
   "metadata": {},
   "outputs": [
    {
     "name": "stdout",
     "output_type": "stream",
     "text": [
      "https://figurl.org/f?v=npm://@fi-sci/figurl-sortingview@12/dist&d=sha1://ee7d63d5adfd3d982f063142ab607285eb452708&label=SpikeInterface%20tutorial%3A%20plot_traces\n"
     ]
    }
   ],
   "source": [
    "# let's do some preprocessing\n",
    "recording = spre.depth_order(recording)\n",
    "recording_hp = spre.highpass_filter(recording)\n",
    "recording_cmr = spre.common_reference(recording_hp)\n",
    "\n",
    "\n",
    "recording_layers = dict(\n",
    "    raw=recording,\n",
    "    highpass=recording_hp,\n",
    "    cmr=recording_cmr\n",
    ")\n",
    "\n",
    "w = sw.plot_traces(\n",
    "    recording_layers,\n",
    "    mode=\"map\",\n",
    "    order_channel_by_depth=True,\n",
    "    time_range=[0, 0.2], \n",
    "    figlabel=\"SpikeInterface tutorial: plot_traces\",\n",
    "    clim=(-50, 50),\n",
    "    backend=\"sortingview\"\n",
    ")"
   ]
  },
  {
   "cell_type": "markdown",
   "id": "6168268b-ef2a-46cd-b4dc-d70e06df862e",
   "metadata": {},
   "source": [
    "# plot_sorting_summary\n",
    "\n",
    "For this plot, we need an analyzer and some extensions:"
   ]
  },
  {
   "cell_type": "code",
   "execution_count": 18,
   "id": "3628e975-28ff-4765-a3c2-327c01316f90",
   "metadata": {},
   "outputs": [
    {
     "data": {
      "application/vnd.jupyter.widget-view+json": {
       "model_id": "e63d1df0a54740eba11bdd1229baf7a2",
       "version_major": 2,
       "version_minor": 0
      },
      "text/plain": [
       "estimate_sparsity:   0%|          | 0/150 [00:00<?, ?it/s]"
      ]
     },
     "metadata": {},
     "output_type": "display_data"
    }
   ],
   "source": [
    "analyzer = si.create_sorting_analyzer(sorting, recording)"
   ]
  },
  {
   "cell_type": "code",
   "execution_count": 19,
   "id": "eb83cef4-5d62-42d0-981b-8fd7b843667b",
   "metadata": {},
   "outputs": [
    {
     "data": {
      "application/vnd.jupyter.widget-view+json": {
       "model_id": "f319266db1d64c9ebbb18f16f845fb25",
       "version_major": 2,
       "version_minor": 0
      },
      "text/plain": [
       "compute_waveforms:   0%|          | 0/150 [00:00<?, ?it/s]"
      ]
     },
     "metadata": {},
     "output_type": "display_data"
    },
    {
     "data": {
      "application/vnd.jupyter.widget-view+json": {
       "model_id": "0057351d7f2c40298c344de49808b547",
       "version_major": 2,
       "version_minor": 0
      },
      "text/plain": [
       "noise_level:   0%|          | 0/20 [00:00<?, ?it/s]"
      ]
     },
     "metadata": {},
     "output_type": "display_data"
    },
    {
     "data": {
      "application/vnd.jupyter.widget-view+json": {
       "model_id": "9ed5da71810040eea9ccc512b93235a6",
       "version_major": 2,
       "version_minor": 0
      },
      "text/plain": [
       "Compute : spike_amplitudes:   0%|          | 0/150 [00:00<?, ?it/s]"
      ]
     },
     "metadata": {},
     "output_type": "display_data"
    },
    {
     "data": {
      "text/plain": [
       "SortingAnalyzer: 32 channels - 74 units - 1 segments - memory - sparse - has recording\n",
       "Loaded 8 extensions: random_spikes, waveforms, templates, noise_levels, unit_locations, template_similarity, correlograms, spike_amplitudes"
      ]
     },
     "execution_count": 19,
     "metadata": {},
     "output_type": "execute_result"
    }
   ],
   "source": [
    "required_extensions = [\n",
    "    \"random_spikes\",\n",
    "    \"waveforms\",\n",
    "    \"templates\",\n",
    "    \"noise_levels\",\n",
    "    \"unit_locations\",\n",
    "    \"template_similarity\",\n",
    "    \"spike_amplitudes\",\n",
    "    \"correlograms\"\n",
    "]\n",
    "analyzer.compute(required_extensions)\n",
    "analyzer"
   ]
  },
  {
   "cell_type": "markdown",
   "id": "860d851a-08a3-457d-a68d-3724e98f286f",
   "metadata": {},
   "source": [
    "We can add any property to the units table:"
   ]
  },
  {
   "cell_type": "code",
   "execution_count": 20,
   "id": "1599a4d0-0de6-4b18-9e4b-c515e298da01",
   "metadata": {},
   "outputs": [],
   "source": [
    "num_spikes = sorting.count_num_spikes_per_unit()\n",
    "unit_amplitudes = si.get_template_extremum_amplitude(analyzer)\n",
    "\n",
    "analyzer.sorting.set_property(\"num_spikes\", list(num_spikes.values()))\n",
    "analyzer.sorting.set_property(\"amplitude\", list(unit_amplitudes.values()))"
   ]
  },
  {
   "cell_type": "code",
   "execution_count": 21,
   "id": "26fea025-1034-4eb7-90e7-cc81e357f0fa",
   "metadata": {},
   "outputs": [
    {
     "name": "stdout",
     "output_type": "stream",
     "text": [
      "https://figurl.org/f?v=npm://@fi-sci/figurl-sortingview@12/dist&d=sha1://a44d47eb90238bdf00adecd5ab48ba2d48a3c061\n"
     ]
    }
   ],
   "source": [
    "w = sw.plot_sorting_summary(\n",
    "    analyzer,\n",
    "    unit_table_properties=[\"num_spikes\", \"amplitude\"], \n",
    "    curation=True, \n",
    "    label_choices=[\"noise\", \"MUA\", \"SUA\"],\n",
    "    backend=\"sortingview\"\n",
    ")"
   ]
  },
  {
   "cell_type": "code",
   "execution_count": null,
   "id": "973d46b3",
   "metadata": {},
   "outputs": [],
   "source": []
  },
  {
   "cell_type": "markdown",
   "id": "b56b7e7d-9aa4-4489-81e0-834f4b7d38de",
   "metadata": {},
   "source": [
    "After curating, we can apply the curation either from the downloaded JSON file or with the URI:"
   ]
  },
  {
   "cell_type": "code",
   "execution_count": 25,
   "id": "0faadad0-8aab-407f-92a6-248282221456",
   "metadata": {},
   "outputs": [
    {
     "data": {
      "text/html": [
       "<div style='border:1px solid #ddd; padding:10px;'><strong>NumpySorting: 73 units - 1 segments - 30.0kHz</strong></div><details style='margin-left: 10px;'>  <summary><strong>Unit IDs</strong></summary><ul>[ 1  2  4  5  6  7  8  9 10 11 12 13 14 15 16 17 18 19 20 21 22 23 24 25\n",
       " 26 27 28 29 30 31 32 33 34 35 36 37 38 39 40 41 42 43 44 45 46 47 48 49\n",
       " 50 51 52 53 54 55 56 57 58 59 60 61 62 63 64 65 66 67 68 69 70 71 73 74\n",
       " 75] </details><details style='margin-left: 10px;'>  <summary><strong>Annotations</strong></summary><ul></details><details style='margin-left: 10px;'><summary><strong>Unit Properties</strong></summary><ul><details><summary><strong>noise</strong></summary>[False False False False False False False  True False False False False\n",
       " False False False False False False False False False False False False\n",
       " False False False False False False False False False False False False\n",
       " False False False False False False False False False False False False\n",
       " False False False False False False False False False False False False\n",
       " False False False False False False False False False False False False\n",
       " False]</details></ul></details>"
      ],
      "text/plain": [
       "NumpySorting: 73 units - 1 segments - 30.0kHz"
      ]
     },
     "execution_count": 25,
     "metadata": {},
     "output_type": "execute_result"
    }
   ],
   "source": [
    "curation_json = \"sorting-curation.json\"\n",
    "\n",
    "sorting_curated_from_json = scur.apply_sortingview_curation(sorting, uri_or_json=curation_json)\n",
    "sorting_curated_from_json"
   ]
  },
  {
   "cell_type": "code",
   "execution_count": 26,
   "id": "21b6e332-d8a6-4c83-b539-527e602ebb45",
   "metadata": {},
   "outputs": [
    {
     "data": {
      "text/html": [
       "<div style='border:1px solid #ddd; padding:10px;'><strong>NumpySorting: 73 units - 1 segments - 30.0kHz</strong></div><details style='margin-left: 10px;'>  <summary><strong>Unit IDs</strong></summary><ul>[ 0  2  3  4  5  6  8  9 10 11 12 13 14 15 16 17 18 19 20 21 22 23 24 25\n",
       " 26 27 28 29 30 31 32 33 34 35 36 37 38 39 40 41 42 43 44 45 46 47 48 49\n",
       " 50 51 52 53 54 55 56 57 58 59 60 61 62 63 64 65 66 67 68 69 70 71 73 74\n",
       " 75] </details><details style='margin-left: 10px;'>  <summary><strong>Annotations</strong></summary><ul></details><details style='margin-left: 10px;'><summary><strong>Unit Properties</strong></summary><ul><details><summary><strong>SUA</strong></summary>[ True  True  True  True  True  True False False False False False False\n",
       " False False False False False False False False False False False False\n",
       " False  True False False False False False False False False False False\n",
       " False False False False False False False False False False False False\n",
       " False False False False False False False False False False False False\n",
       " False False False False False False False False False False False False\n",
       " False]</details><details><summary><strong>noise</strong></summary>[False False False False False False  True False False False False False\n",
       " False False False False  True False  True False False False False False\n",
       " False False False False False False False False False False False False\n",
       " False False False False False False False False False False False False\n",
       " False False False False False False False False False False False False\n",
       " False False False False False False False False False False False False\n",
       "  True]</details><details><summary><strong>MUA</strong></summary>[False False False False False False False  True  True  True False False\n",
       " False False False False False False False False False False False False\n",
       " False False False False False False False False False False False False\n",
       " False False False False False False False False False False False False\n",
       " False False False False False False False False False False False False\n",
       " False False False False False False False False False False False False\n",
       " False]</details></ul></details>"
      ],
      "text/plain": [
       "NumpySorting: 73 units - 1 segments - 30.0kHz"
      ]
     },
     "execution_count": 26,
     "metadata": {},
     "output_type": "execute_result"
    }
   ],
   "source": [
    "uri = \"sha1://090dcb14f4a57781862be59a20ed5732b8341cdd\"\n",
    "sorting_curated_from_uri = scur.apply_sortingview_curation(sorting, uri_or_json=uri)\n",
    "sorting_curated_from_uri"
   ]
  },
  {
   "cell_type": "markdown",
   "id": "42887dcf-c53c-47a5-b3d2-2805cc4fc050",
   "metadata": {},
   "source": [
    "## GUIs"
   ]
  },
  {
   "cell_type": "code",
   "execution_count": 27,
   "id": "6a9958a3-20e3-484d-90c9-75447fa48bad",
   "metadata": {},
   "outputs": [],
   "source": [
    "analyzer_saved = analyzer.save_as(\n",
    "    folder=base_folder / \"analyzer_for_visualization\",\n",
    ")"
   ]
  },
  {
   "cell_type": "markdown",
   "id": "5c3ac98d-015a-419c-833f-370f4af1e52e",
   "metadata": {},
   "source": [
    "### plot_traces with `ephyviewer`"
   ]
  },
  {
   "cell_type": "code",
   "execution_count": 28,
   "id": "ce67d6ad-ce31-4569-9740-272cef9fa768",
   "metadata": {},
   "outputs": [
    {
     "name": "stderr",
     "output_type": "stream",
     "text": [
      "/home/samuel/.venvs/py3.12/lib/python3.12/site-packages/h5py/__init__.py:36: UserWarning: h5py is running against HDF5 1.10.10 when it was built against 1.14.4, this may cause problems\n",
      "  _warn((\"h5py is running against HDF5 {0} when it was built against {1}, \"\n"
     ]
    },
    {
     "data": {
      "text/plain": [
       "<spikeinterface.widgets.traces.TracesWidget at 0x790bd02cc1d0>"
      ]
     },
     "execution_count": 28,
     "metadata": {},
     "output_type": "execute_result"
    }
   ],
   "source": [
    "%gui qt\n",
    "sw.plot_traces(recording, backend=\"ephyviewer\")"
   ]
  },
  {
   "cell_type": "markdown",
   "id": "d9de3296-8df5-4726-a3d5-365d20e56b4e",
   "metadata": {},
   "source": [
    "### plot_sorting_summary with `spikeinterface-gui`"
   ]
  },
  {
   "cell_type": "code",
   "execution_count": 29,
   "id": "6f23b0ec-5731-4392-bde5-af0d92fba1bc",
   "metadata": {},
   "outputs": [
    {
     "data": {
      "application/vnd.jupyter.widget-view+json": {
       "model_id": "5ee7749675bd4bf7ad0539f6915916db",
       "version_major": 2,
       "version_minor": 0
      },
      "text/plain": [
       "Fitting PCA:   0%|          | 0/74 [00:00<?, ?it/s]"
      ]
     },
     "metadata": {},
     "output_type": "display_data"
    },
    {
     "data": {
      "application/vnd.jupyter.widget-view+json": {
       "model_id": "0524ee1dada34d45bd54d1a7e0f5ef4e",
       "version_major": 2,
       "version_minor": 0
      },
      "text/plain": [
       "Projecting waveforms:   0%|          | 0/74 [00:00<?, ?it/s]"
      ]
     },
     "metadata": {},
     "output_type": "display_data"
    },
    {
     "data": {
      "text/plain": [
       "SortingAnalyzer: 32 channels - 74 units - 1 segments - memory - sparse - has recording\n",
       "Loaded 10 extensions: random_spikes, waveforms, templates, noise_levels, unit_locations, template_similarity, correlograms, spike_amplitudes, principal_components, quality_metrics"
      ]
     },
     "execution_count": 29,
     "metadata": {},
     "output_type": "execute_result"
    }
   ],
   "source": [
    "analyzer_saved.compute(\"principal_components\", n_components=3, mode=\"by_channel_global\")\n",
    "analyzer_saved.compute(\"quality_metrics\", metric_names=[\"snr\"])\n",
    "analyzer_saved"
   ]
  },
  {
   "cell_type": "code",
   "execution_count": 30,
   "id": "f065dbe0-3309-4a1d-8f01-362c0ce8961f",
   "metadata": {},
   "outputs": [
    {
     "data": {
      "text/plain": [
       "<spikeinterface.widgets.sorting_summary.SortingSummaryWidget at 0x790bd1737800>"
      ]
     },
     "execution_count": 30,
     "metadata": {},
     "output_type": "execute_result"
    }
   ],
   "source": [
    "%gui qt\n",
    "sw.plot_sorting_summary(analyzer_saved, backend=\"spikeinterface_gui\")"
   ]
  },
  {
   "cell_type": "code",
   "execution_count": null,
   "id": "6b2ef4e3-b800-44e3-b7a9-570ccbe875a3",
   "metadata": {},
   "outputs": [],
   "source": []
  }
 ],
 "metadata": {
  "kernelspec": {
   "display_name": "py3.12",
   "language": "python",
   "name": "python3"
  },
  "language_info": {
   "codemirror_mode": {
    "name": "ipython",
    "version": 3
   },
   "file_extension": ".py",
   "mimetype": "text/x-python",
   "name": "python",
   "nbconvert_exporter": "python",
   "pygments_lexer": "ipython3",
   "version": "3.12.3"
  }
 },
 "nbformat": 4,
 "nbformat_minor": 5
}
