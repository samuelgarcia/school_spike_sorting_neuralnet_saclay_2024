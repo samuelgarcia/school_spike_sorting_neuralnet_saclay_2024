{
 "cells": [
  {
   "cell_type": "markdown",
   "id": "b059719c-7ef1-45e9-b69e-3c5ce96b473e",
   "metadata": {},
   "source": [
    "# Postprocessing\n",
    "\n",
    "We're going to process some sorting results, and calculate\n",
    "- Waveforms\n",
    "- Templates\n",
    "- Features. Such as amplitudes, PCAs etc.\n",
    "\n",
    "This is good chance to visualize some of the output, and look for suspicious sorted units!\n",
    "\n",
    "For this tutorial, we'll use some simulated data that has already been sorted. This can be found in the `dataset_postprocessing` folder."
   ]
  },
  {
   "cell_type": "code",
   "execution_count": null,
   "id": "6d340708-3fc5-469e-9848-97e5dfa46298",
   "metadata": {},
   "outputs": [],
   "source": [
    "import spikeinterface as si\n",
    "import spikeinterface.postprocessing as sipp\n",
    "import spikeinterface.widgets as sw\n",
    "\n",
    "from pathlib import Path\n",
    "\n",
    "base_folder = Path(“path/to/SpikeInterface Dataset Tutorial”)\n",
    "\n",
    "postprocessing_folder = base_folder/\"dataset_postprocessing\"\n",
    "\n",
    "recording = si.load_extractor(postprocessing_folder / \"recording\")\n",
    "sorting = si.load_extractor(postprocessing_folder / \"sorting_mysterious\")"
   ]
  },
  {
   "cell_type": "markdown",
   "id": "69dfdd54-a4b1-47d7-a986-15ba6a9d8e03",
   "metadata": {},
   "source": [
    "Let's take a look..."
   ]
  },
  {
   "cell_type": "code",
   "execution_count": null,
   "id": "4b562619-229a-4236-9bfb-49b6f159997a",
   "metadata": {},
   "outputs": [],
   "source": [
    "recording"
   ]
  },
  {
   "cell_type": "code",
   "execution_count": null,
   "id": "be11e60d-e48a-42a8-aa65-fd69d9070eb1",
   "metadata": {},
   "outputs": [],
   "source": [
    "sorting"
   ]
  },
  {
   "cell_type": "markdown",
   "id": "cfb66aa6-1b34-4da4-8f83-1042d3b7cf1d",
   "metadata": {},
   "source": [
    "Now we'll combine these into a a single sorting analyzer called `analyzer_in_memory`.\n",
    "\n",
    "By default, the analyzer is saved in memory. When it's in memory, computations involving the analyzer are very fast. But, of course, this takes up memory."
   ]
  },
  {
   "cell_type": "code",
   "execution_count": null,
   "id": "09e8126a-8632-444d-b2ec-af8a72a181eb",
   "metadata": {},
   "outputs": [],
   "source": [
    "analyzer_in_memory = si.create_sorting_analyzer(sorting=sorting, recording=recording)\n"
   ]
  },
  {
   "cell_type": "markdown",
   "id": "516deb08-9ad5-439b-acff-bbb697123464",
   "metadata": {},
   "source": [
    "Note that when you create a sorting analyzer, it automatically calculates the _sparsity_. This creates a mask for each unit, so that only relevant channels are kept. This can greatly speed up computation for high density probes. We'll see it in action later!\n",
    "\n",
    "If your working locally (e.g. on your laptop at a workshop) you'll probably want to save your analyzer in a folder. Let's do that now\n"
   ]
  },
  {
   "cell_type": "code",
   "execution_count": null,
   "id": "05833955-91ee-4d24-8194-d24da467b84d",
   "metadata": {},
   "outputs": [],
   "source": [
    "analyzer = analyzer_in_memory.save_as(format=\"binary_folder\", folder=\"my_sorting_analyzer\")"
   ]
  },
  {
   "cell_type": "markdown",
   "id": "89b77ddb-f4b7-46d2-a52d-d13e36e2f4ba",
   "metadata": {},
   "source": [
    "Note that `analyzer_in_memory` is still in memory, while analyzer is not. \n",
    "\n",
    "_{ Note: you can save your analyzer in a folder from the start by running:_ \\\n",
    "_analyzer = si.create_sorting_analyzer(sorting=sorting, recording=recording, format=\"binary_folder\", folder=\"my_sorting_analyzer\")_ }"
   ]
  },
  {
   "cell_type": "code",
   "execution_count": null,
   "id": "7678fb03-aec8-4092-a2ac-13832508a2b6",
   "metadata": {},
   "outputs": [],
   "source": [
    "print(analyzer)\n",
    "print(analyzer_in_memory)"
   ]
  },
  {
   "cell_type": "markdown",
   "id": "48b4016b-9dcf-4be2-96bd-a54bd4f2d38b",
   "metadata": {},
   "source": [
    "## Extensions\n",
    "\n",
    "The physical information we're interested in is computed using _extensions_. We can compute the `waveform` extension as follows:"
   ]
  },
  {
   "cell_type": "code",
   "execution_count": null,
   "id": "113c4bdc-6479-49f4-8993-468648e9a621",
   "metadata": {},
   "outputs": [],
   "source": [
    "analyzer.compute(\"waveforms\")"
   ]
  },
  {
   "cell_type": "markdown",
   "id": "caf4a87e-c74c-404e-af80-1aa8fea83713",
   "metadata": {},
   "source": [
    "Oh no - an error! The waveforms extensions requires the random_spikes extension. In fact, many extensions depend on other extensions. Here are all the current extension in spike interface and how they depend on one another:\n",
    "\n",
    "![Hello](parent_child.svg)"
   ]
  },
  {
   "cell_type": "markdown",
   "id": "82af9ca1-5592-496e-8df4-0c9bca1a5bf1",
   "metadata": {},
   "source": [
    "So, we should calculate `random_spikes` as well as waveforms. In fact we can calculate several extensions in one funciton call. Here we'll calculate random_spikes, waveforms and templates:"
   ]
  },
  {
   "cell_type": "code",
   "execution_count": null,
   "id": "37c5ac6a-6629-4e88-b863-91360ea5c6f3",
   "metadata": {},
   "outputs": [],
   "source": [
    "si.set_global_job_kwargs(n_jobs=4)\n",
    "analyzer.compute([\"random_spikes\", \"waveforms\", \"templates\"])"
   ]
  },
  {
   "cell_type": "markdown",
   "id": "734cae40-f708-4757-bbd5-686b60e871bb",
   "metadata": {},
   "source": [
    "Since `analyzer` is saved as a folder, the extensions will appear in the folder too. Let's have a look...\n",
    "\n",
    "...\n",
    "\n",
    "...\n",
    "\n",
    "...\n",
    "\n",
    "Great! \n",
    "\n",
    "What happens when you recalculate an extension? Well, it depends what it depends on. For example, waveforms depend on random spikes. This is because the waveforms are calculated using a random sampling of spikes. So if we recalculate random spikes, we'll get different waveforms. If our random sampling is good and representative, the waveforms won't change much. But they do. So if we recalculate random spikes, then our waveforms are inconsistent with our new random spikes. To keep things consistent when extensions are recomputed, spikeinterface _deletes_ the extensions which depend on the recomputed extension. Let's see this in action:"
   ]
  },
  {
   "cell_type": "code",
   "execution_count": null,
   "id": "8e5440d7-339b-4142-bce7-ae961410e361",
   "metadata": {},
   "outputs": [],
   "source": [
    "analyzer.compute(\"random_spikes\")"
   ]
  },
  {
   "cell_type": "markdown",
   "id": "7779400a-f71b-4c4b-a1a5-4775cd24e2d0",
   "metadata": {},
   "source": [
    "Now, check your folder. The waveforms and templates are gone.\n",
    "\n",
    "But we do want them for this tutorial. So let's calculate them again."
   ]
  },
  {
   "cell_type": "code",
   "execution_count": null,
   "id": "df64bc8c-daad-4458-9ff3-56524a7a9c48",
   "metadata": {},
   "outputs": [],
   "source": [
    "analyzer.compute([\"waveforms\", \"templates\"])"
   ]
  },
  {
   "cell_type": "markdown",
   "id": "b2d62012-6506-43fa-9934-b45209c7f42a",
   "metadata": {},
   "source": [
    "You can access the extension data using the `get_extension` and `get_data` methods."
   ]
  },
  {
   "cell_type": "code",
   "execution_count": null,
   "id": "8a0db1db-88b8-43da-b1ed-2a0f9f6ba429",
   "metadata": {},
   "outputs": [],
   "source": [
    "analyzer.get_extension(\"templates\").get_data()"
   ]
  },
  {
   "cell_type": "markdown",
   "id": "f9678a93-c03a-411e-ab69-b2f8329465a1",
   "metadata": {},
   "source": [
    "But it's a little awkward to work with without visualization...\n",
    "\n",
    "Soon, we'll visualise lots of interesting stuff. These will rely on the more extensions, which we'll now calculate in a slightly different way: using a dictionary. This might suit your coding style better."
   ]
  },
  {
   "cell_type": "code",
   "execution_count": null,
   "id": "23409a13-8cf5-4ac6-a4d2-505f2206eede",
   "metadata": {},
   "outputs": [],
   "source": [
    "extensions_to_compute = {\n",
    "    #'principal_components': {\n",
    "    #    'n_components': 4\n",
    "    #},\n",
    "    'spike_amplitudes': {},\n",
    "    'amplitude_scalings': {},\n",
    "    'spike_locations': {},\n",
    "    'template_metrics': {},\n",
    "    'template_similarity': {},\n",
    "    'unit_locations': {\n",
    "        'method': 'monopolar_triangulation'\n",
    "    },\n",
    "}\n",
    "\n",
    "analyzer.compute(extensions_to_compute)"
   ]
  },
  {
   "cell_type": "markdown",
   "id": "2530ce32-fb70-460b-b271-520a0c5596a9",
   "metadata": {},
   "source": [
    "### Exercises\n",
    "\n",
    "1. Run this notebook\n",
    "2. Save the sorting analyzer using the Zarr format. More details here: https://spikeinterface.readthedocs.io/en/latest/modules/postprocessing.html\n",
    "3. Try varying the keywords in one of the extensions. More details here: https://spikeinterface.readthedocs.io/en/latest/modules/postprocessing.html#available-postprocessing-extensions\n",
    "4. Run the next code block, the first one in the \"Widgets\" section."
   ]
  },
  {
   "cell_type": "markdown",
   "id": "3e25adb1-1a13-4d1c-be51-0422ed0c9751",
   "metadata": {},
   "source": [
    "## Widgets\n",
    "\n",
    "We'll now have a look at the information we've calculated, using a _widget_. These are used to make graphical, interactive output in Jupyter notebooks. They can be a bit fiddely to set up. For instance, some of the most interactive features fail in VSCode (for me!).\n",
    "\n",
    "Let's plot the unit summary. This contains the unit location, template, template on the most important channel, the autocorrelogram and the amplitude density plot (phew!)"
   ]
  },
  {
   "cell_type": "code",
   "execution_count": null,
   "id": "3d93d452-7200-4ec4-8b35-5acd2e7dc45a",
   "metadata": {},
   "outputs": [],
   "source": [
    "# activate the matplotlib widget\n",
    "import matplotlib.pyplot\n",
    "%matplotlib widget\n",
    "\n",
    "sw.plot_unit_summary(analyzer, unit_id=39, figsize=(8,4))"
   ]
  },
  {
   "cell_type": "markdown",
   "id": "e9aa9449-b380-4884-9010-92b96ac6c614",
   "metadata": {},
   "source": [
    "_(Note: the recording has 32 channels, but only ~15 are shown. This is thanks to the sparisty discussed earlier.)_"
   ]
  },
  {
   "cell_type": "markdown",
   "id": "ba8dc4e0-a070-4973-b7d7-4087b2867206",
   "metadata": {},
   "source": [
    "Beautiful! There are _a lot_ of widgets: https://spikeinterface.readthedocs.io/en/latest/modules/widgets.html#available-plotting-functions\n",
    "\n",
    "They can be very useful when checking if your units look reasonable. For instance, we can have a look at the unit locations. One way is to get the data and have a look:"
   ]
  },
  {
   "cell_type": "code",
   "execution_count": null,
   "id": "11c03130-6d03-43f1-8732-fed95f3bf342",
   "metadata": {},
   "outputs": [],
   "source": [
    "print(analyzer.get_extension(\"unit_locations\").get_data())"
   ]
  },
  {
   "cell_type": "markdown",
   "id": "b2710148-19e9-4423-bc65-bcbf5d407506",
   "metadata": {},
   "source": [
    "Another way is to use a widget:\n"
   ]
  },
  {
   "cell_type": "code",
   "execution_count": null,
   "id": "ffe2c2c4-4a13-4ce4-81cb-94db42f18ac7",
   "metadata": {},
   "outputs": [],
   "source": [
    "sw.plot_unit_locations(analyzer, backend=\"ipywidgets\")"
   ]
  },
  {
   "cell_type": "markdown",
   "id": "2ac250e8-a76e-49ed-8dd9-9c1b0d12379c",
   "metadata": {},
   "source": [
    "Earlier, I had a look at the data and noticed that units 0, 16, 29 and 34 were very close together...\n",
    "\n",
    "Units that are close together are candidates for oversplitting. Maybe our sorting algorithm has split one unit into two. We can investigate how similar their firing rates are by looking at the cross correlograms."
   ]
  },
  {
   "cell_type": "code",
   "execution_count": null,
   "id": "a1b26522-f79f-4e5e-ae8f-84dbe5a5bb52",
   "metadata": {},
   "outputs": [],
   "source": [
    "sw.plot_crosscorrelograms(analyzer.sorting,  unit_ids=[0,16,29,34])"
   ]
  },
  {
   "cell_type": "markdown",
   "id": "37183e64-6713-4116-8394-0eba4f26fb20",
   "metadata": {},
   "source": [
    "Very suspicious! Units 16 and 29 almost always spike at the same time. Let's take a look at their templates..."
   ]
  },
  {
   "cell_type": "code",
   "execution_count": null,
   "id": "9a6a54cc-439b-48c7-a5e6-a05e805a9ae2",
   "metadata": {},
   "outputs": [],
   "source": [
    "sw.plot_unit_templates(analyzer, unit_ids=[16,29])"
   ]
  },
  {
   "cell_type": "markdown",
   "id": "1938d166-146c-411d-a5d7-b61939f86c68",
   "metadata": {},
   "source": [
    "Should these be merged? That's not the point of this tutorial! Instead, we've seen how the widgets can be used to do some detective work. Another very useful widget is related to spike amplitudes:"
   ]
  },
  {
   "cell_type": "code",
   "execution_count": null,
   "id": "224b0b03-bfa4-437c-b590-b25dfa4a0ada",
   "metadata": {},
   "outputs": [],
   "source": [
    "sw.plot_amplitudes(analyzer, plot_histograms=True, backend=\"ipywidgets\")"
   ]
  },
  {
   "cell_type": "markdown",
   "id": "a56cd96a-72b3-4f61-96b2-1fd48e43b68b",
   "metadata": {},
   "source": [
    "Two things to look out for: drift and sudden amplitude cut-offs.\n",
    "There's also a nice way to view all the amplitude distributions at once:"
   ]
  },
  {
   "cell_type": "code",
   "execution_count": null,
   "id": "f8cd7790-2bdc-4e42-89de-7b2f42699ea5",
   "metadata": {},
   "outputs": [],
   "source": [
    "sw.plot_all_amplitudes_distributions(analyzer, figsize=(10,4))"
   ]
  },
  {
   "cell_type": "markdown",
   "id": "a2d2e902-4d8b-4890-b779-2ae0a304c158",
   "metadata": {},
   "source": [
    "### Exercises\n",
    "\n",
    "1. Run this notebook\n",
    "2. Go have a look at the **Widget Tutorial** page of the documentation: (https://spikeinterface.readthedocs.io/en/latest/tutorials/index.html#widgets-tutorials)\n",
    "and plot a widget we've not looked at yet. Note: some of the widgets take in a _recording_ or _sorting_. For these you need to pass `analyzer.recording` or `analyzer.sorting` instead of `analyzer`.\n",
    "3. Try and find a suspicious unit. One that should be merged or split!\n",
    "\n"
   ]
  },
  {
   "cell_type": "markdown",
   "id": "4fff7a29-cb17-4006-8c19-8fed22226f1e",
   "metadata": {},
   "source": [
    "# END\n",
    "\n",
    "That's the end of this notebook. Hopefully you've learned about\n",
    "- Combining your recording and sorting into a sorting analyzer\n",
    "- Calculating extensions, their dependences and what happens when you recompute\n",
    "- Accessing extension data and visualising them using widgets"
   ]
  },
  {
   "cell_type": "code",
   "execution_count": null,
   "id": "2a916262-8262-48a6-a6b7-e2cb33a440b8",
   "metadata": {},
   "outputs": [],
   "source": []
  }
 ],
 "metadata": {
  "kernelspec": {
   "display_name": "SpikeDev",
   "language": "python",
   "name": "spikedev"
  },
  "language_info": {
   "codemirror_mode": {
    "name": "ipython",
    "version": 3
   },
   "file_extension": ".py",
   "mimetype": "text/x-python",
   "name": "python",
   "nbconvert_exporter": "python",
   "pygments_lexer": "ipython3",
   "version": "3.11.5"
  }
 },
 "nbformat": 4,
 "nbformat_minor": 5
}
