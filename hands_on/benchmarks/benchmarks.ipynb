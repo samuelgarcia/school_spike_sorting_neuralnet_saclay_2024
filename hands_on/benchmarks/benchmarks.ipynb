{
 "cells": [
  {
   "cell_type": "markdown",
   "metadata": {},
   "source": [
    "# Benchmarking spike sorters\n",
    "\n",
    "\n",
    "To benchmark the spike sorting algorithms, one of the easiest option is to design artifical dataset, in order to have a full control on what is created, and to have a proper \"ground truth\" to compare with. \n",
    "\n",
    "To do so, we could use MEArec (https://github.com/alejoe91/MEArec) a python package that can help you to generate such artificial datasets.\n",
    "\n",
    "Since 2024, spikeinterface has a builtin and powerfull generator able to simulated ground truth recording with drift.\n",
    "\n",
    "\n",
    "Basically, given some templates and a probe layout, the software will generate traces that can later be used for benchmarking the sorting algorithms. \n",
    "\n",
    "The comparison between different sorters can be tedious, since every one of them has a different file format. However, spikeinterface can act as a universal wrapper allowing you to launch and read the results of the sorters. Moreover, spikeinterface comes with numerous analysis functions that will allow you to quickly assess the quality of a spike sorting, and compute quality metrics with respect to the Ground Truth that have been generated\n",
    "\n"
   ]
  },
  {
   "cell_type": "code",
   "execution_count": 1,
   "metadata": {},
   "outputs": [],
   "source": [
    "from pathlib import Path\n",
    "import numpy as np\n",
    "import matplotlib.pyplot as plt\n",
    "\n",
    "import spikeinterface.full as si"
   ]
  },
  {
   "cell_type": "code",
   "execution_count": 2,
   "metadata": {},
   "outputs": [],
   "source": [
    "%matplotlib inline"
   ]
  },
  {
   "cell_type": "code",
   "execution_count": 3,
   "metadata": {},
   "outputs": [],
   "source": [
    "si.set_global_job_kwargs(n_jobs=-1, progress_bar=True, chunk_duration=\"1s\")"
   ]
  },
  {
   "cell_type": "code",
   "execution_count": 4,
   "metadata": {},
   "outputs": [],
   "source": [
    "base_folder = Path('/home/samuel/DataSpikeSorting/Ediburgh_SI_tutos/')"
   ]
  },
  {
   "cell_type": "markdown",
   "metadata": {},
   "source": [
    "### Step 1 : Generate GT recording : one \"static\" + one \"drifting\"\n",
    "\n",
    "`spikeinterface.generation` provide many tools to generate: spiketrains, templates, handle template library.\n",
    "\n",
    "Here lets use the function `generate_drifting_recording()`."
   ]
  },
  {
   "cell_type": "code",
   "execution_count": 5,
   "metadata": {},
   "outputs": [],
   "source": [
    "recording, drifting_recording, gt_sorting = si.generate_drifting_recording(\n",
    "    num_units=50,\n",
    "    duration=300.,\n",
    "    probe_name=\"Neuronexus-32\",\n",
    "    # probe_name=\"Neuropixel-128\",\n",
    "\n",
    "    generate_templates_kwargs=dict(\n",
    "        ms_before=1.5,\n",
    "        ms_after=3.0,\n",
    "        mode=\"ellipsoid\",\n",
    "        unit_params=dict(\n",
    "            alpha=(150.0, 500.0),\n",
    "            spatial_decay=(10, 40),\n",
    "        ),\n",
    "    ),\n",
    "    generate_unit_locations_kwargs=dict(\n",
    "        margin_um=10.0,\n",
    "        minimum_z=6.0,\n",
    "        maximum_z=25.0,\n",
    "        minimum_distance=18.0,\n",
    "        max_iteration=100,\n",
    "        distance_strict=False,\n",
    "    ),    \n",
    "    generate_sorting_kwargs=dict(\n",
    "        firing_rates=(2.0, 5.0),\n",
    "        refractory_period_ms=4.0\n",
    "    ),\n",
    "    generate_noise_kwargs=dict(\n",
    "        noise_levels=(12.0, 15.0),\n",
    "        spatial_decay=25.0\n",
    "    ),\n",
    "    seed=2205\n",
    ")"
   ]
  },
  {
   "cell_type": "code",
   "execution_count": 6,
   "metadata": {},
   "outputs": [
    {
     "name": "stdout",
     "output_type": "stream",
     "text": [
      "InjectDriftingTemplatesRecording: 32 channels - 30.0kHz - 1 segments - 9,000,000 samples \n",
      "                                  300.00s (5.00 minutes) - float32 dtype - 1.07 GiB\n",
      "InjectDriftingTemplatesRecording: 32 channels - 30.0kHz - 1 segments - 9,000,000 samples \n",
      "                                  300.00s (5.00 minutes) - float32 dtype - 1.07 GiB\n",
      "NumpySorting: 50 units - 1 segments - 30.0kHz\n"
     ]
    }
   ],
   "source": [
    "print(recording)\n",
    "print(drifting_recording)\n",
    "print(gt_sorting)\n"
   ]
  },
  {
   "cell_type": "code",
   "execution_count": 7,
   "metadata": {},
   "outputs": [
    {
     "data": {
      "text/plain": [
       "<spikeinterface.widgets.probe_map.ProbeMapWidget at 0x7e5106462990>"
      ]
     },
     "execution_count": 7,
     "metadata": {},
     "output_type": "execute_result"
    },
    {
     "data": {
      "image/png": "[encoded data removed]",
      "text/plain": [
       "<Figure size 640x480 with 1 Axes>"
      ]
     },
     "metadata": {},
     "output_type": "display_data"
    }
   ],
   "source": [
    "si.plot_probe_map(recording)"
   ]
  },
  {
   "cell_type": "markdown",
   "metadata": {},
   "source": [
    "### Step 2 : check the ground truth  the dataset with Analyzer"
   ]
  },
  {
   "cell_type": "code",
   "execution_count": 29,
   "metadata": {},
   "outputs": [
    {
     "data": {
      "application/vnd.jupyter.widget-view+json": {
       "model_id": "6bcf96ab21cc4526bb0750a0dfc0f5ca",
       "version_major": 2,
       "version_minor": 0
      },
      "text/plain": [
       "estimate_sparsity:   0%|          | 0/300 [00:00<?, ?it/s]"
      ]
     },
     "metadata": {},
     "output_type": "display_data"
    },
    {
     "data": {
      "application/vnd.jupyter.widget-view+json": {
       "model_id": "c71c2537920c4c53bfb492068ee6d67b",
       "version_major": 2,
       "version_minor": 0
      },
      "text/plain": [
       "compute_waveforms:   0%|          | 0/300 [00:00<?, ?it/s]"
      ]
     },
     "metadata": {},
     "output_type": "display_data"
    },
    {
     "data": {
      "application/vnd.jupyter.widget-view+json": {
       "model_id": "f7bea0aa8029455397d8082a83abfa38",
       "version_major": 2,
       "version_minor": 0
      },
      "text/plain": [
       "Fitting PCA:   0%|          | 0/50 [00:00<?, ?it/s]"
      ]
     },
     "metadata": {},
     "output_type": "display_data"
    },
    {
     "data": {
      "application/vnd.jupyter.widget-view+json": {
       "model_id": "4a0a7ea5d0de471a9eee8029e799c8a4",
       "version_major": 2,
       "version_minor": 0
      },
      "text/plain": [
       "Projecting waveforms:   0%|          | 0/50 [00:00<?, ?it/s]"
      ]
     },
     "metadata": {},
     "output_type": "display_data"
    },
    {
     "data": {
      "application/vnd.jupyter.widget-view+json": {
       "model_id": "74ca7d53ed6e46cc8a814c70a4cec10b",
       "version_major": 2,
       "version_minor": 0
      },
      "text/plain": [
       "Compute : spike_amplitudes:   0%|          | 0/300 [00:00<?, ?it/s]"
      ]
     },
     "metadata": {},
     "output_type": "display_data"
    },
    {
     "data": {
      "text/plain": [
       "SortingAnalyzer: 32 channels - 50 units - 1 segments - memory - sparse - has recording\n",
       "Loaded 10 extensions: random_spikes, waveforms, templates, noise_levels, unit_locations, principal_components, correlograms, template_similarity, spike_amplitudes, quality_metrics"
      ]
     },
     "execution_count": 29,
     "metadata": {},
     "output_type": "execute_result"
    }
   ],
   "source": [
    "gt_analyzer = si.create_sorting_analyzer(gt_sorting, recording, sparse=True)\n",
    "gt_analyzer.compute([\"random_spikes\", \"waveforms\", \"templates\", \"noise_levels\"])\n",
    "gt_analyzer.compute([\"spike_amplitudes\", \"unit_locations\",  \"correlograms\", \"template_similarity\"])\n",
    "# \"principal_components\",\n",
    "gt_analyzer.compute(\"quality_metrics\", metric_names=[\"snr\", \"amplitude_cutoff\", \"rp_violation\"])\n",
    "gt_analyzer"
   ]
  },
  {
   "cell_type": "code",
   "execution_count": 30,
   "metadata": {},
   "outputs": [
    {
     "data": {
      "text/plain": [
       "<spikeinterface.widgets.sorting_summary.SortingSummaryWidget at 0x7bf8ef556010>"
      ]
     },
     "execution_count": 30,
     "metadata": {},
     "output_type": "execute_result"
    }
   ],
   "source": [
    "%gui qt\n",
    "si.plot_sorting_summary(gt_analyzer, backend=\"spikeinterface_gui\")"
   ]
  },
  {
   "cell_type": "code",
   "execution_count": 31,
   "metadata": {},
   "outputs": [
    {
     "data": {
      "text/html": [
       "<div>\n",
       "<style scoped>\n",
       "    .dataframe tbody tr th:only-of-type {\n",
       "        vertical-align: middle;\n",
       "    }\n",
       "\n",
       "    .dataframe tbody tr th {\n",
       "        vertical-align: top;\n",
       "    }\n",
       "\n",
       "    .dataframe thead th {\n",
       "        text-align: right;\n",
       "    }\n",
       "</style>\n",
       "<table border=\"1\" class=\"dataframe\">\n",
       "  <thead>\n",
       "    <tr style=\"text-align: right;\">\n",
       "      <th></th>\n",
       "      <th>amplitude_cutoff</th>\n",
       "      <th>rp_contamination</th>\n",
       "      <th>rp_violations</th>\n",
       "      <th>snr</th>\n",
       "    </tr>\n",
       "  </thead>\n",
       "  <tbody>\n",
       "    <tr>\n",
       "      <th>0</th>\n",
       "      <td>0.004457</td>\n",
       "      <td>0.0</td>\n",
       "      <td>0.0</td>\n",
       "      <td>6.956720</td>\n",
       "    </tr>\n",
       "    <tr>\n",
       "      <th>1</th>\n",
       "      <td>0.000565</td>\n",
       "      <td>0.0</td>\n",
       "      <td>0.0</td>\n",
       "      <td>6.182963</td>\n",
       "    </tr>\n",
       "    <tr>\n",
       "      <th>2</th>\n",
       "      <td>0.000430</td>\n",
       "      <td>0.0</td>\n",
       "      <td>0.0</td>\n",
       "      <td>5.792810</td>\n",
       "    </tr>\n",
       "    <tr>\n",
       "      <th>3</th>\n",
       "      <td>0.001907</td>\n",
       "      <td>0.0</td>\n",
       "      <td>0.0</td>\n",
       "      <td>0.717674</td>\n",
       "    </tr>\n",
       "    <tr>\n",
       "      <th>4</th>\n",
       "      <td>0.001697</td>\n",
       "      <td>0.0</td>\n",
       "      <td>0.0</td>\n",
       "      <td>4.489210</td>\n",
       "    </tr>\n",
       "    <tr>\n",
       "      <th>5</th>\n",
       "      <td>0.000533</td>\n",
       "      <td>0.0</td>\n",
       "      <td>0.0</td>\n",
       "      <td>6.924349</td>\n",
       "    </tr>\n",
       "    <tr>\n",
       "      <th>6</th>\n",
       "      <td>0.000891</td>\n",
       "      <td>0.0</td>\n",
       "      <td>0.0</td>\n",
       "      <td>10.570908</td>\n",
       "    </tr>\n",
       "    <tr>\n",
       "      <th>7</th>\n",
       "      <td>0.000184</td>\n",
       "      <td>0.0</td>\n",
       "      <td>0.0</td>\n",
       "      <td>8.676829</td>\n",
       "    </tr>\n",
       "    <tr>\n",
       "      <th>8</th>\n",
       "      <td>0.000635</td>\n",
       "      <td>0.0</td>\n",
       "      <td>0.0</td>\n",
       "      <td>12.202497</td>\n",
       "    </tr>\n",
       "    <tr>\n",
       "      <th>9</th>\n",
       "      <td>0.000219</td>\n",
       "      <td>0.0</td>\n",
       "      <td>0.0</td>\n",
       "      <td>6.058457</td>\n",
       "    </tr>\n",
       "  </tbody>\n",
       "</table>\n",
       "</div>"
      ],
      "text/plain": [
       "   amplitude_cutoff  rp_contamination  rp_violations        snr\n",
       "0          0.004457               0.0            0.0   6.956720\n",
       "1          0.000565               0.0            0.0   6.182963\n",
       "2          0.000430               0.0            0.0   5.792810\n",
       "3          0.001907               0.0            0.0   0.717674\n",
       "4          0.001697               0.0            0.0   4.489210\n",
       "5          0.000533               0.0            0.0   6.924349\n",
       "6          0.000891               0.0            0.0  10.570908\n",
       "7          0.000184               0.0            0.0   8.676829\n",
       "8          0.000635               0.0            0.0  12.202497\n",
       "9          0.000219               0.0            0.0   6.058457"
      ]
     },
     "execution_count": 31,
     "metadata": {},
     "output_type": "execute_result"
    }
   ],
   "source": [
    "metrics = gt_analyzer.get_extension(\"quality_metrics\").get_data()\n",
    "metrics.head(10)"
   ]
  },
  {
   "cell_type": "code",
   "execution_count": 32,
   "metadata": {},
   "outputs": [
    {
     "data": {
      "text/plain": [
       "Text(0.5, 0, 'snr')"
      ]
     },
     "execution_count": 32,
     "metadata": {},
     "output_type": "execute_result"
    },
    {
     "data": {
      "image/png": "[encoded data removed]",
      "text/plain": [
       "<Figure size 640x480 with 1 Axes>"
      ]
     },
     "metadata": {},
     "output_type": "display_data"
    }
   ],
   "source": [
    "fig, ax = plt.subplots()\n",
    "_ = ax.hist(metrics['snr'], bins=20)\n",
    "ax.set_xlabel('snr')"
   ]
  },
  {
   "cell_type": "code",
   "execution_count": null,
   "metadata": {},
   "outputs": [],
   "source": []
  },
  {
   "cell_type": "markdown",
   "metadata": {},
   "source": [
    "## Step 3 : run several sorters on GT recording"
   ]
  },
  {
   "cell_type": "code",
   "execution_count": 15,
   "metadata": {},
   "outputs": [],
   "source": [
    "sorter_names = ['spykingcircus2',   'mountainsort5',] # 'kilosort4',"
   ]
  },
  {
   "cell_type": "code",
   "execution_count": 17,
   "metadata": {},
   "outputs": [
    {
     "name": "stdout",
     "output_type": "stream",
     "text": [
      "spykingcircus2 /home/samuel/DataSpikeSorting/Ediburgh_SI_tutos/Simulated_sorter_output_spykingcircus2\n",
      "mountainsort5 /home/samuel/DataSpikeSorting/Ediburgh_SI_tutos/Simulated_sorter_output_mountainsort5\n",
      "Warning! The recording is already filtered, but mountainsort5 filter is enabled\n",
      "filtering\n",
      "whitening\n",
      "write_binary_recording \n",
      "n_jobs=12 - samples_per_chunk=30,000 - chunk_memory=3.66 MiB - total_memory=43.95 MiB - chunk_duration=1.00s\n"
     ]
    },
    {
     "data": {
      "application/vnd.jupyter.widget-view+json": {
       "model_id": "6e17cd18ab9c4daebd168e6c8fbaa75d",
       "version_major": 2,
       "version_minor": 0
      },
      "text/plain": [
       "write_binary_recording:   0%|          | 0/300 [00:00<?, ?it/s]"
      ]
     },
     "metadata": {},
     "output_type": "display_data"
    },
    {
     "name": "stdout",
     "output_type": "stream",
     "text": [
      "Using training recording of duration 300 sec with the sampling mode uniform\n",
      "*** MS5 Elapsed time for SCHEME2 get_sampled_recording_for_training: 0.000 seconds ***\n",
      "Running phase 1 sorting\n",
      "Number of channels: 32\n",
      "Number of timepoints: 9000000\n",
      "Sampling frequency: 30000.0 Hz\n",
      "Channel 0: [0. 0.]\n",
      "Channel 1: [ 0. 30.]\n",
      "Channel 2: [ 0. 60.]\n",
      "Channel 3: [ 0. 90.]\n",
      "Channel 4: [  0. 120.]\n",
      "Channel 5: [  0. 150.]\n",
      "Channel 6: [  0. 180.]\n",
      "Channel 7: [  0. 210.]\n",
      "Channel 8: [  0. 240.]\n",
      "Channel 9: [  0. 270.]\n",
      "Channel 10: [ 30. -15.]\n",
      "Channel 11: [30. 15.]\n",
      "Channel 12: [30. 45.]\n",
      "Channel 13: [30. 75.]\n",
      "Channel 14: [ 30. 105.]\n",
      "Channel 15: [ 30. 135.]\n",
      "Channel 16: [ 30. 165.]\n",
      "Channel 17: [ 30. 195.]\n",
      "Channel 18: [ 30. 225.]\n",
      "Channel 19: [ 30. 255.]\n",
      "Channel 20: [ 30. 285.]\n",
      "Channel 21: [ 30. 315.]\n",
      "Channel 22: [60.  0.]\n",
      "Channel 23: [60. 30.]\n",
      "Channel 24: [60. 60.]\n",
      "Channel 25: [60. 90.]\n",
      "Channel 26: [ 60. 120.]\n",
      "Channel 27: [ 60. 150.]\n",
      "Channel 28: [ 60. 180.]\n",
      "Channel 29: [ 60. 210.]\n",
      "Channel 30: [ 60. 240.]\n",
      "Channel 31: [ 60. 270.]\n",
      "Loading traces\n",
      "*** MS5 Elapsed time for load_traces: 0.000 seconds ***\n",
      "Detecting spikes\n",
      "\n",
      "Adjacency for detect spikes with channel radius 200\n",
      "[[0, 1, 2, 3, 4, 5, 6, 10, 11, 12, 13, 14, 15, 16, 17, 22, 23, 24, 25, 26, 27, 28], [0, 1, 2, 3, 4, 5, 6, 7, 10, 11, 12, 13, 14, 15, 16, 17, 18, 22, 23, 24, 25, 26, 27, 28, 29], [0, 1, 2, 3, 4, 5, 6, 7, 8, 10, 11, 12, 13, 14, 15, 16, 17, 18, 19, 22, 23, 24, 25, 26, 27, 28, 29, 30], [0, 1, 2, 3, 4, 5, 6, 7, 8, 9, 10, 11, 12, 13, 14, 15, 16, 17, 18, 19, 20, 22, 23, 24, 25, 26, 27, 28, 29, 30, 31], [0, 1, 2, 3, 4, 5, 6, 7, 8, 9, 10, 11, 12, 13, 14, 15, 16, 17, 18, 19, 20, 21, 22, 23, 24, 25, 26, 27, 28, 29, 30, 31], [0, 1, 2, 3, 4, 5, 6, 7, 8, 9, 10, 11, 12, 13, 14, 15, 16, 17, 18, 19, 20, 21, 22, 23, 24, 25, 26, 27, 28, 29, 30, 31], [0, 1, 2, 3, 4, 5, 6, 7, 8, 9, 10, 11, 12, 13, 14, 15, 16, 17, 18, 19, 20, 21, 22, 23, 24, 25, 26, 27, 28, 29, 30, 31], [1, 2, 3, 4, 5, 6, 7, 8, 9, 11, 12, 13, 14, 15, 16, 17, 18, 19, 20, 21, 23, 24, 25, 26, 27, 28, 29, 30, 31], [2, 3, 4, 5, 6, 7, 8, 9, 12, 13, 14, 15, 16, 17, 18, 19, 20, 21, 24, 25, 26, 27, 28, 29, 30, 31], [3, 4, 5, 6, 7, 8, 9, 13, 14, 15, 16, 17, 18, 19, 20, 21, 25, 26, 27, 28, 29, 30, 31], [0, 1, 2, 3, 4, 5, 6, 10, 11, 12, 13, 14, 15, 16, 22, 23, 24, 25, 26, 27, 28], [0, 1, 2, 3, 4, 5, 6, 7, 10, 11, 12, 13, 14, 15, 16, 17, 22, 23, 24, 25, 26, 27, 28, 29], [0, 1, 2, 3, 4, 5, 6, 7, 8, 10, 11, 12, 13, 14, 15, 16, 17, 18, 22, 23, 24, 25, 26, 27, 28, 29, 30], [0, 1, 2, 3, 4, 5, 6, 7, 8, 9, 10, 11, 12, 13, 14, 15, 16, 17, 18, 19, 22, 23, 24, 25, 26, 27, 28, 29, 30, 31], [0, 1, 2, 3, 4, 5, 6, 7, 8, 9, 10, 11, 12, 13, 14, 15, 16, 17, 18, 19, 20, 22, 23, 24, 25, 26, 27, 28, 29, 30, 31], [0, 1, 2, 3, 4, 5, 6, 7, 8, 9, 10, 11, 12, 13, 14, 15, 16, 17, 18, 19, 20, 21, 22, 23, 24, 25, 26, 27, 28, 29, 30, 31], [0, 1, 2, 3, 4, 5, 6, 7, 8, 9, 10, 11, 12, 13, 14, 15, 16, 17, 18, 19, 20, 21, 22, 23, 24, 25, 26, 27, 28, 29, 30, 31], [0, 1, 2, 3, 4, 5, 6, 7, 8, 9, 11, 12, 13, 14, 15, 16, 17, 18, 19, 20, 21, 22, 23, 24, 25, 26, 27, 28, 29, 30, 31], [1, 2, 3, 4, 5, 6, 7, 8, 9, 12, 13, 14, 15, 16, 17, 18, 19, 20, 21, 23, 24, 25, 26, 27, 28, 29, 30, 31], [2, 3, 4, 5, 6, 7, 8, 9, 13, 14, 15, 16, 17, 18, 19, 20, 21, 24, 25, 26, 27, 28, 29, 30, 31], [3, 4, 5, 6, 7, 8, 9, 14, 15, 16, 17, 18, 19, 20, 21, 25, 26, 27, 28, 29, 30, 31], [4, 5, 6, 7, 8, 9, 15, 16, 17, 18, 19, 20, 21, 26, 27, 28, 29, 30, 31], [0, 1, 2, 3, 4, 5, 6, 10, 11, 12, 13, 14, 15, 16, 17, 22, 23, 24, 25, 26, 27, 28], [0, 1, 2, 3, 4, 5, 6, 7, 10, 11, 12, 13, 14, 15, 16, 17, 18, 22, 23, 24, 25, 26, 27, 28, 29], [0, 1, 2, 3, 4, 5, 6, 7, 8, 10, 11, 12, 13, 14, 15, 16, 17, 18, 19, 22, 23, 24, 25, 26, 27, 28, 29, 30], [0, 1, 2, 3, 4, 5, 6, 7, 8, 9, 10, 11, 12, 13, 14, 15, 16, 17, 18, 19, 20, 22, 23, 24, 25, 26, 27, 28, 29, 30, 31], [0, 1, 2, 3, 4, 5, 6, 7, 8, 9, 10, 11, 12, 13, 14, 15, 16, 17, 18, 19, 20, 21, 22, 23, 24, 25, 26, 27, 28, 29, 30, 31], [0, 1, 2, 3, 4, 5, 6, 7, 8, 9, 10, 11, 12, 13, 14, 15, 16, 17, 18, 19, 20, 21, 22, 23, 24, 25, 26, 27, 28, 29, 30, 31], [0, 1, 2, 3, 4, 5, 6, 7, 8, 9, 10, 11, 12, 13, 14, 15, 16, 17, 18, 19, 20, 21, 22, 23, 24, 25, 26, 27, 28, 29, 30, 31], [1, 2, 3, 4, 5, 6, 7, 8, 9, 11, 12, 13, 14, 15, 16, 17, 18, 19, 20, 21, 23, 24, 25, 26, 27, 28, 29, 30, 31], [2, 3, 4, 5, 6, 7, 8, 9, 12, 13, 14, 15, 16, 17, 18, 19, 20, 21, 24, 25, 26, 27, 28, 29, 30, 31], [3, 4, 5, 6, 7, 8, 9, 13, 14, 15, 16, 17, 18, 19, 20, 21, 25, 26, 27, 28, 29, 30, 31]]\n",
      "\n",
      "m = 0 (nbhd size: 22)\n",
      "m = 1 (nbhd size: 25)\n",
      "m = 2 (nbhd size: 28)\n",
      "m = 3 (nbhd size: 31)\n",
      "m = 4 (nbhd size: 32)\n",
      "m = 5 (nbhd size: 32)\n",
      "m = 6 (nbhd size: 32)\n",
      "m = 7 (nbhd size: 29)\n",
      "m = 8 (nbhd size: 26)\n",
      "m = 9 (nbhd size: 23)\n",
      "m = 10 (nbhd size: 21)\n",
      "m = 11 (nbhd size: 24)\n",
      "m = 12 (nbhd size: 27)\n",
      "m = 13 (nbhd size: 30)\n",
      "m = 14 (nbhd size: 31)\n",
      "m = 15 (nbhd size: 32)\n",
      "m = 16 (nbhd size: 32)\n",
      "m = 17 (nbhd size: 31)\n",
      "m = 18 (nbhd size: 28)\n",
      "m = 19 (nbhd size: 25)\n",
      "m = 20 (nbhd size: 22)\n",
      "m = 21 (nbhd size: 19)\n",
      "m = 22 (nbhd size: 22)\n",
      "m = 23 (nbhd size: 25)\n",
      "m = 24 (nbhd size: 28)\n",
      "m = 25 (nbhd size: 31)\n",
      "m = 26 (nbhd size: 32)\n",
      "m = 27 (nbhd size: 32)\n",
      "m = 28 (nbhd size: 32)\n",
      "m = 29 (nbhd size: 29)\n",
      "m = 30 (nbhd size: 26)\n",
      "m = 31 (nbhd size: 23)\n",
      "Detected 35049 spikes\n",
      "*** MS5 Elapsed time for detect_spikes: 3.201 seconds ***\n",
      "Removing duplicate times\n",
      "*** MS5 Elapsed time for remove_duplicate_times: 0.000 seconds ***\n",
      "Extracting 35036 snippets\n",
      "*** MS5 Elapsed time for extract_snippets: 0.512 seconds ***\n",
      "Computing PCA features with npca=96\n",
      "*** MS5 Elapsed time for compute_pca_features: 4.051 seconds ***\n",
      "Isosplit6 clustering with npca_per_subdivision=10\n",
      "Found 58 clusters\n",
      "*** MS5 Elapsed time for isosplit6_subdivision_method: 17.914 seconds ***\n",
      "Computing templates\n",
      "*** MS5 Elapsed time for compute_templates: 0.647 seconds ***\n",
      "Determining optimal alignment of templates\n",
      "Template alignment converged.\n",
      "Align templates offsets:  [-1  2  3  3  2  2  3  2  2  5  3  3  2  3  3  3  0  3  0  0 -1  0  1  0\n",
      "  0 -1  0  0  0  0  2  1  2  3  0  1  2  1  0  0  0  1  1  0  1  2  1  2\n",
      " -1 -2  0 -3 -4 -1 -1  0 -2 -1]\n",
      "*** MS5 Elapsed time for align_templates: 2.060 seconds ***\n",
      "Aligning snippets\n",
      "*** MS5 Elapsed time for align_snippets: 0.081 seconds ***\n",
      "Clustering aligned snippets\n",
      "Computing PCA features with npca=96\n",
      "*** MS5 Elapsed time for compute_pca_features: 2.726 seconds ***\n",
      "Isosplit6 clustering with npca_per_subdivision=10\n",
      "*** MS5 Elapsed time for isosplit6_subdivision_method: 18.720 seconds ***\n",
      "Found 44 clusters after alignment\n",
      "Computing templates\n",
      "*** MS5 Elapsed time for compute_templates: 0.633 seconds ***\n",
      "Offsetting times to peak\n",
      "Offsets to peak: [-1  2  2  2  5  3  3  2  3  0  3  3  3  3  3  2  2  0  0 -1  0  0  1  0\n",
      "  0  1  0  0  2  1  2  0  0  0  2  2 -1  1 -4 -1 -1 -1 -2 -3]\n",
      "*** MS5 Elapsed time for determine_offsets_to_peak: 0.002 seconds ***\n",
      "Sorting times\n",
      "*** MS5 Elapsed time for sorting times: 0.000 seconds ***\n",
      "Removing out of bounds times\n",
      "*** MS5 Elapsed time for removing out of bounds times: 0.000 seconds ***\n",
      "Reordering units\n",
      "*** MS5 Elapsed time for reordering units: 0.001 seconds ***\n",
      "Creating sorting object\n",
      "*** MS5 Elapsed time for creating sorting object: 0.003 seconds ***\n",
      "*** MS5 Elapsed time for SCHEME2 sorting_scheme1: 50.583 seconds ***\n",
      "*** MS5 Elapsed time for SCHEME2 get_times_labels_from_sorting: 0.005 seconds ***\n",
      "Loading training traces\n",
      "*** MS5 Elapsed time for SCHEME2 training_recording.get_traces: 0.145 seconds ***\n",
      "Training classifier\n",
      "*** MS5 Elapsed time for SCHEME2 training classifier step 1: 0.061 seconds ***\n",
      "Adding snippets from phase 1 sorting\n",
      "Fitting models\n",
      "*** MS5 Elapsed time for SCHEME2 fitting models: 14.549 seconds ***\n",
      "Chunk size: 104.16666666666667 sec\n",
      "Time chunk 1 of 3\n",
      "Loading traces\n",
      "*** MS5 Elapsed time for SCHEME2 loading traces: 0.001 seconds ***\n",
      "Detecting spikes\n",
      "\n",
      "Adjacency for detect spikes with channel radius 50\n",
      "[[0, 1, 10, 11], [0, 1, 2, 11, 12], [1, 2, 3, 12, 13], [2, 3, 4, 13, 14], [3, 4, 5, 14, 15], [4, 5, 6, 15, 16], [5, 6, 7, 16, 17], [6, 7, 8, 17, 18], [7, 8, 9, 18, 19], [8, 9, 19, 20], [0, 10, 11, 22], [0, 1, 10, 11, 12, 22, 23], [1, 2, 11, 12, 13, 23, 24], [2, 3, 12, 13, 14, 24, 25], [3, 4, 13, 14, 15, 25, 26], [4, 5, 14, 15, 16, 26, 27], [5, 6, 15, 16, 17, 27, 28], [6, 7, 16, 17, 18, 28, 29], [7, 8, 17, 18, 19, 29, 30], [8, 9, 18, 19, 20, 30, 31], [9, 19, 20, 21, 31], [20, 21], [10, 11, 22, 23], [11, 12, 22, 23, 24], [12, 13, 23, 24, 25], [13, 14, 24, 25, 26], [14, 15, 25, 26, 27], [15, 16, 26, 27, 28], [16, 17, 27, 28, 29], [17, 18, 28, 29, 30], [18, 19, 29, 30, 31], [19, 20, 30, 31]]\n",
      "\n",
      "Scheme 2 detected 13480 spikes in chunk 1 of 3\n",
      "*** MS5 Elapsed time for SCHEME2 detecting spikes: 0.587 seconds ***\n",
      "Extracting and classifying snippets\n",
      "*** MS5 Elapsed time for SCHEME2 extracting and classifying snippets: 2.534 seconds ***\n",
      "Updating events\n",
      "Removing duplicates\n",
      "*** MS5 Elapsed time for SCHEME2 updating events: 0.024 seconds ***\n",
      "Time chunk 2 of 3\n",
      "Loading traces\n",
      "*** MS5 Elapsed time for SCHEME2 loading traces: 0.006 seconds ***\n",
      "Detecting spikes\n",
      "\n",
      "Adjacency for detect spikes with channel radius 50\n",
      "[[0, 1, 10, 11], [0, 1, 2, 11, 12], [1, 2, 3, 12, 13], [2, 3, 4, 13, 14], [3, 4, 5, 14, 15], [4, 5, 6, 15, 16], [5, 6, 7, 16, 17], [6, 7, 8, 17, 18], [7, 8, 9, 18, 19], [8, 9, 19, 20], [0, 10, 11, 22], [0, 1, 10, 11, 12, 22, 23], [1, 2, 11, 12, 13, 23, 24], [2, 3, 12, 13, 14, 24, 25], [3, 4, 13, 14, 15, 25, 26], [4, 5, 14, 15, 16, 26, 27], [5, 6, 15, 16, 17, 27, 28], [6, 7, 16, 17, 18, 28, 29], [7, 8, 17, 18, 19, 29, 30], [8, 9, 18, 19, 20, 30, 31], [9, 19, 20, 21, 31], [20, 21], [10, 11, 22, 23], [11, 12, 22, 23, 24], [12, 13, 23, 24, 25], [13, 14, 24, 25, 26], [14, 15, 25, 26, 27], [15, 16, 26, 27, 28], [16, 17, 27, 28, 29], [17, 18, 28, 29, 30], [18, 19, 29, 30, 31], [19, 20, 30, 31]]\n",
      "\n",
      "Scheme 2 detected 13486 spikes in chunk 2 of 3\n",
      "*** MS5 Elapsed time for SCHEME2 detecting spikes: 0.529 seconds ***\n",
      "Extracting and classifying snippets\n",
      "*** MS5 Elapsed time for SCHEME2 extracting and classifying snippets: 2.733 seconds ***\n",
      "Updating events\n",
      "Removing duplicates\n",
      "*** MS5 Elapsed time for SCHEME2 updating events: 0.028 seconds ***\n",
      "Time chunk 3 of 3\n",
      "Loading traces\n",
      "*** MS5 Elapsed time for SCHEME2 loading traces: 0.006 seconds ***\n",
      "Detecting spikes\n",
      "\n",
      "Adjacency for detect spikes with channel radius 50\n",
      "[[0, 1, 10, 11], [0, 1, 2, 11, 12], [1, 2, 3, 12, 13], [2, 3, 4, 13, 14], [3, 4, 5, 14, 15], [4, 5, 6, 15, 16], [5, 6, 7, 16, 17], [6, 7, 8, 17, 18], [7, 8, 9, 18, 19], [8, 9, 19, 20], [0, 10, 11, 22], [0, 1, 10, 11, 12, 22, 23], [1, 2, 11, 12, 13, 23, 24], [2, 3, 12, 13, 14, 24, 25], [3, 4, 13, 14, 15, 25, 26], [4, 5, 14, 15, 16, 26, 27], [5, 6, 15, 16, 17, 27, 28], [6, 7, 16, 17, 18, 28, 29], [7, 8, 17, 18, 19, 29, 30], [8, 9, 18, 19, 20, 30, 31], [9, 19, 20, 21, 31], [20, 21], [10, 11, 22, 23], [11, 12, 22, 23, 24], [12, 13, 23, 24, 25], [13, 14, 24, 25, 26], [14, 15, 25, 26, 27], [15, 16, 26, 27, 28], [16, 17, 27, 28, 29], [17, 18, 28, 29, 30], [18, 19, 29, 30, 31], [19, 20, 30, 31]]\n",
      "\n",
      "Scheme 2 detected 11726 spikes in chunk 3 of 3\n",
      "*** MS5 Elapsed time for SCHEME2 detecting spikes: 0.471 seconds ***\n",
      "Extracting and classifying snippets\n",
      "*** MS5 Elapsed time for SCHEME2 extracting and classifying snippets: 2.475 seconds ***\n",
      "Updating events\n",
      "Removing duplicates\n",
      "*** MS5 Elapsed time for SCHEME2 updating events: 0.024 seconds ***\n",
      "Concatenating results\n",
      "*** MS5 Elapsed time for SCHEME2 concatenating results: 0.000 seconds ***\n",
      "Perorming label mapping\n",
      "*** MS5 Elapsed time for SCHEME2 label mapping: 0.000 seconds ***\n",
      "Creating sorting object\n",
      "*** MS5 Elapsed time for SCHEME2 creating sorting object: 0.003 seconds ***\n",
      "mountainsort5 run time 83.43s\n"
     ]
    }
   ],
   "source": [
    "# run sorter (if not already done)\n",
    "sortings = {}\n",
    "for sorter_name in sorter_names:\n",
    "    output_folder = base_folder / f'Simulated_sorter_output_{sorter_name}'\n",
    "    print(sorter_name, output_folder)\n",
    "    if output_folder.exists():\n",
    "        sortings[sorter_name] = si.read_sorter_folder(output_folder)\n",
    "    else:\n",
    "        sortings[sorter_name] = si.run_sorter(sorter_name, recording, output_folder, verbose=True)\n"
   ]
  },
  {
   "cell_type": "code",
   "execution_count": 18,
   "metadata": {},
   "outputs": [
    {
     "data": {
      "text/plain": [
       "{'spykingcircus2': NumpyFolderSorting: 83 units - 1 segments - 30.0kHz,\n",
       " 'mountainsort5': NpzSortingExtractor: 44 units - 1 segments - 30.0kHz\n",
       "   file_path: /home/samuel/DataSpikeSorting/Ediburgh_SI_tutos/Simulated_sorter_output_mountainsort5/sorter_output/firings.npz}"
      ]
     },
     "execution_count": 18,
     "metadata": {},
     "output_type": "execute_result"
    }
   ],
   "source": [
    "sortings"
   ]
  },
  {
   "cell_type": "markdown",
   "metadata": {},
   "source": [
    "## Step 4 : run comparison and plot agreement matrix for one sorter\n",
    "\n",
    "Once we have a given spike sorting, we can always compare it to its ground-truth, via the comparison object offered by spikeinterface"
   ]
  },
  {
   "cell_type": "code",
   "execution_count": 19,
   "metadata": {},
   "outputs": [],
   "source": [
    "comparisons = {}\n",
    "for sorter_name in sorter_names:\n",
    "    comparisons[sorter_name] = si.compare_sorter_to_ground_truth(gt_sorting, sortings[sorter_name])"
   ]
  },
  {
   "cell_type": "code",
   "execution_count": 20,
   "metadata": {},
   "outputs": [],
   "source": [
    "comp_sc2 = comparisons['spykingcircus2']\n",
    "# comp_ks4 = comparisons['kilosort4']\n",
    "# comp_ms5 = comparisons['mountainsort5']"
   ]
  },
  {
   "cell_type": "code",
   "execution_count": 25,
   "metadata": {},
   "outputs": [
    {
     "data": {
      "text/html": [
       "<div>\n",
       "<style scoped>\n",
       "    .dataframe tbody tr th:only-of-type {\n",
       "        vertical-align: middle;\n",
       "    }\n",
       "\n",
       "    .dataframe tbody tr th {\n",
       "        vertical-align: top;\n",
       "    }\n",
       "\n",
       "    .dataframe thead th {\n",
       "        text-align: right;\n",
       "    }\n",
       "</style>\n",
       "<table border=\"1\" class=\"dataframe\">\n",
       "  <thead>\n",
       "    <tr style=\"text-align: right;\">\n",
       "      <th></th>\n",
       "      <th>0</th>\n",
       "      <th>1</th>\n",
       "      <th>2</th>\n",
       "      <th>3</th>\n",
       "      <th>4</th>\n",
       "      <th>5</th>\n",
       "      <th>6</th>\n",
       "      <th>7</th>\n",
       "      <th>8</th>\n",
       "      <th>9</th>\n",
       "      <th>...</th>\n",
       "      <th>83</th>\n",
       "      <th>84</th>\n",
       "      <th>85</th>\n",
       "      <th>88</th>\n",
       "      <th>89</th>\n",
       "      <th>90</th>\n",
       "      <th>92</th>\n",
       "      <th>93</th>\n",
       "      <th>96</th>\n",
       "      <th>97</th>\n",
       "    </tr>\n",
       "  </thead>\n",
       "  <tbody>\n",
       "    <tr>\n",
       "      <th>0</th>\n",
       "      <td>0.000883</td>\n",
       "      <td>0.001640</td>\n",
       "      <td>0.001217</td>\n",
       "      <td>0.001661</td>\n",
       "      <td>0.002380</td>\n",
       "      <td>0.008904</td>\n",
       "      <td>0.002657</td>\n",
       "      <td>0.466917</td>\n",
       "      <td>0.006261</td>\n",
       "      <td>0.001728</td>\n",
       "      <td>...</td>\n",
       "      <td>0.002072</td>\n",
       "      <td>0.002934</td>\n",
       "      <td>0.000722</td>\n",
       "      <td>0.001334</td>\n",
       "      <td>0.000000</td>\n",
       "      <td>0.001567</td>\n",
       "      <td>0.002176</td>\n",
       "      <td>0.000398</td>\n",
       "      <td>0.000000</td>\n",
       "      <td>0.000000</td>\n",
       "    </tr>\n",
       "    <tr>\n",
       "      <th>1</th>\n",
       "      <td>0.002418</td>\n",
       "      <td>0.001464</td>\n",
       "      <td>0.001074</td>\n",
       "      <td>0.002813</td>\n",
       "      <td>0.002849</td>\n",
       "      <td>0.003147</td>\n",
       "      <td>0.001209</td>\n",
       "      <td>0.002096</td>\n",
       "      <td>0.002128</td>\n",
       "      <td>0.001973</td>\n",
       "      <td>...</td>\n",
       "      <td>0.000000</td>\n",
       "      <td>0.002649</td>\n",
       "      <td>0.000623</td>\n",
       "      <td>0.001163</td>\n",
       "      <td>0.000000</td>\n",
       "      <td>0.000936</td>\n",
       "      <td>0.000793</td>\n",
       "      <td>0.003305</td>\n",
       "      <td>0.000743</td>\n",
       "      <td>0.000000</td>\n",
       "    </tr>\n",
       "    <tr>\n",
       "      <th>2</th>\n",
       "      <td>0.002656</td>\n",
       "      <td>0.000547</td>\n",
       "      <td>0.001219</td>\n",
       "      <td>0.000000</td>\n",
       "      <td>0.001700</td>\n",
       "      <td>0.001220</td>\n",
       "      <td>0.002660</td>\n",
       "      <td>0.002889</td>\n",
       "      <td>0.001996</td>\n",
       "      <td>0.002596</td>\n",
       "      <td>...</td>\n",
       "      <td>0.001382</td>\n",
       "      <td>0.000488</td>\n",
       "      <td>0.000000</td>\n",
       "      <td>0.000668</td>\n",
       "      <td>0.000000</td>\n",
       "      <td>0.000522</td>\n",
       "      <td>0.001305</td>\n",
       "      <td>0.000000</td>\n",
       "      <td>0.000000</td>\n",
       "      <td>0.000000</td>\n",
       "    </tr>\n",
       "    <tr>\n",
       "      <th>3</th>\n",
       "      <td>0.000465</td>\n",
       "      <td>0.001752</td>\n",
       "      <td>0.001311</td>\n",
       "      <td>0.000000</td>\n",
       "      <td>0.001769</td>\n",
       "      <td>0.000632</td>\n",
       "      <td>0.002334</td>\n",
       "      <td>0.000998</td>\n",
       "      <td>0.001026</td>\n",
       "      <td>0.002276</td>\n",
       "      <td>...</td>\n",
       "      <td>0.000000</td>\n",
       "      <td>0.001035</td>\n",
       "      <td>0.000000</td>\n",
       "      <td>0.002172</td>\n",
       "      <td>0.000000</td>\n",
       "      <td>0.000556</td>\n",
       "      <td>0.000000</td>\n",
       "      <td>0.000836</td>\n",
       "      <td>0.000000</td>\n",
       "      <td>0.000867</td>\n",
       "    </tr>\n",
       "    <tr>\n",
       "      <th>4</th>\n",
       "      <td>0.001431</td>\n",
       "      <td>0.001806</td>\n",
       "      <td>0.001356</td>\n",
       "      <td>0.000000</td>\n",
       "      <td>0.003248</td>\n",
       "      <td>0.003218</td>\n",
       "      <td>0.001433</td>\n",
       "      <td>0.002033</td>\n",
       "      <td>0.001561</td>\n",
       "      <td>0.000931</td>\n",
       "      <td>...</td>\n",
       "      <td>0.001561</td>\n",
       "      <td>0.002129</td>\n",
       "      <td>0.002469</td>\n",
       "      <td>0.000000</td>\n",
       "      <td>0.001117</td>\n",
       "      <td>0.001717</td>\n",
       "      <td>0.002347</td>\n",
       "      <td>0.002138</td>\n",
       "      <td>0.000000</td>\n",
       "      <td>0.000000</td>\n",
       "    </tr>\n",
       "  </tbody>\n",
       "</table>\n",
       "<p>5 rows × 83 columns</p>\n",
       "</div>"
      ],
      "text/plain": [
       "         0         1         2         3         4         5         6   \\\n",
       "0  0.000883  0.001640  0.001217  0.001661  0.002380  0.008904  0.002657   \n",
       "1  0.002418  0.001464  0.001074  0.002813  0.002849  0.003147  0.001209   \n",
       "2  0.002656  0.000547  0.001219  0.000000  0.001700  0.001220  0.002660   \n",
       "3  0.000465  0.001752  0.001311  0.000000  0.001769  0.000632  0.002334   \n",
       "4  0.001431  0.001806  0.001356  0.000000  0.003248  0.003218  0.001433   \n",
       "\n",
       "         7         8         9   ...        83        84        85        88  \\\n",
       "0  0.466917  0.006261  0.001728  ...  0.002072  0.002934  0.000722  0.001334   \n",
       "1  0.002096  0.002128  0.001973  ...  0.000000  0.002649  0.000623  0.001163   \n",
       "2  0.002889  0.001996  0.002596  ...  0.001382  0.000488  0.000000  0.000668   \n",
       "3  0.000998  0.001026  0.002276  ...  0.000000  0.001035  0.000000  0.002172   \n",
       "4  0.002033  0.001561  0.000931  ...  0.001561  0.002129  0.002469  0.000000   \n",
       "\n",
       "         89        90        92        93        96        97  \n",
       "0  0.000000  0.001567  0.002176  0.000398  0.000000  0.000000  \n",
       "1  0.000000  0.000936  0.000793  0.003305  0.000743  0.000000  \n",
       "2  0.000000  0.000522  0.001305  0.000000  0.000000  0.000000  \n",
       "3  0.000000  0.000556  0.000000  0.000836  0.000000  0.000867  \n",
       "4  0.001117  0.001717  0.002347  0.002138  0.000000  0.000000  \n",
       "\n",
       "[5 rows x 83 columns]"
      ]
     },
     "execution_count": 25,
     "metadata": {},
     "output_type": "execute_result"
    }
   ],
   "source": [
    "comp_sc2.agreement_scores.head(5)"
   ]
  },
  {
   "cell_type": "code",
   "execution_count": 26,
   "metadata": {},
   "outputs": [
    {
     "data": {
      "text/html": [
       "<div>\n",
       "<style scoped>\n",
       "    .dataframe tbody tr th:only-of-type {\n",
       "        vertical-align: middle;\n",
       "    }\n",
       "\n",
       "    .dataframe tbody tr th {\n",
       "        vertical-align: top;\n",
       "    }\n",
       "\n",
       "    .dataframe thead th {\n",
       "        text-align: right;\n",
       "    }\n",
       "</style>\n",
       "<table border=\"1\" class=\"dataframe\">\n",
       "  <thead>\n",
       "    <tr style=\"text-align: right;\">\n",
       "      <th></th>\n",
       "      <th>accuracy</th>\n",
       "      <th>recall</th>\n",
       "      <th>precision</th>\n",
       "      <th>false_discovery_rate</th>\n",
       "      <th>miss_rate</th>\n",
       "    </tr>\n",
       "    <tr>\n",
       "      <th>gt_unit_id</th>\n",
       "      <th></th>\n",
       "      <th></th>\n",
       "      <th></th>\n",
       "      <th></th>\n",
       "      <th></th>\n",
       "    </tr>\n",
       "  </thead>\n",
       "  <tbody>\n",
       "    <tr>\n",
       "      <th>0</th>\n",
       "      <td>0</td>\n",
       "      <td>0</td>\n",
       "      <td>0</td>\n",
       "      <td>0</td>\n",
       "      <td>0</td>\n",
       "    </tr>\n",
       "    <tr>\n",
       "      <th>1</th>\n",
       "      <td>0.818923</td>\n",
       "      <td>0.818923</td>\n",
       "      <td>1.0</td>\n",
       "      <td>0.0</td>\n",
       "      <td>0.181077</td>\n",
       "    </tr>\n",
       "    <tr>\n",
       "      <th>2</th>\n",
       "      <td>0.74502</td>\n",
       "      <td>0.74502</td>\n",
       "      <td>1.0</td>\n",
       "      <td>0.0</td>\n",
       "      <td>0.25498</td>\n",
       "    </tr>\n",
       "    <tr>\n",
       "      <th>3</th>\n",
       "      <td>0</td>\n",
       "      <td>0</td>\n",
       "      <td>0</td>\n",
       "      <td>0</td>\n",
       "      <td>0</td>\n",
       "    </tr>\n",
       "    <tr>\n",
       "      <th>4</th>\n",
       "      <td>1.0</td>\n",
       "      <td>1.0</td>\n",
       "      <td>1.0</td>\n",
       "      <td>0.0</td>\n",
       "      <td>0.0</td>\n",
       "    </tr>\n",
       "  </tbody>\n",
       "</table>\n",
       "</div>"
      ],
      "text/plain": [
       "            accuracy    recall precision false_discovery_rate miss_rate\n",
       "gt_unit_id                                                             \n",
       "0                  0         0         0                    0         0\n",
       "1           0.818923  0.818923       1.0                  0.0  0.181077\n",
       "2            0.74502   0.74502       1.0                  0.0   0.25498\n",
       "3                  0         0         0                    0         0\n",
       "4                1.0       1.0       1.0                  0.0       0.0"
      ]
     },
     "execution_count": 26,
     "metadata": {},
     "output_type": "execute_result"
    }
   ],
   "source": [
    "comp_sc2.get_performance().head(5)"
   ]
  },
  {
   "cell_type": "code",
   "execution_count": 33,
   "metadata": {},
   "outputs": [
    {
     "name": "stdout",
     "output_type": "stream",
     "text": [
      "(2, 1)\n"
     ]
    },
    {
     "data": {
      "image/png": "[encoded data removed]",
      "text/plain": [
       "<Figure size 1000x500 with 2 Axes>"
      ]
     },
     "metadata": {},
     "output_type": "display_data"
    }
   ],
   "source": [
    "%matplotlib inline\n",
    "n = len(sorter_names)\n",
    "fig, axs = plt.subplots(nrows=n, figsize=(10, 5), squeeze=False)\n",
    "\n",
    "print(axs.shape)\n",
    "\n",
    "for i, sorter_name in enumerate(sorter_names):\n",
    "    ax=axs.flatten()[i]\n",
    "    si.plot_agreement_matrix(comparisons[sorter_name], ax=ax)\n",
    "    ax.set_title(sorter_name)\n",
    "    ax.set_xlabel(None)\n",
    "    ax.set_ylabel(None)\n",
    "    \n",
    "plt.show()"
   ]
  },
  {
   "cell_type": "code",
   "execution_count": 40,
   "metadata": {},
   "outputs": [
    {
     "data": {
      "text/plain": [
       "<matplotlib.legend.Legend at 0x7bf8bbed6c10>"
      ]
     },
     "execution_count": 40,
     "metadata": {},
     "output_type": "execute_result"
    },
    {
     "data": {
      "image/png": "[encoded data removed]",
      "text/plain": [
       "<Figure size 640x480 with 1 Axes>"
      ]
     },
     "metadata": {},
     "output_type": "display_data"
    }
   ],
   "source": [
    "n = len(sorter_names)\n",
    "fig, ax = plt.subplots()\n",
    "for i, sorter_name in enumerate(sorter_names):\n",
    "    comp = comparisons[sorter_name]\n",
    "    perfs = comp.get_performance()\n",
    "\n",
    "    x = metrics.loc[:, 'snr'].values\n",
    "    y = perfs.loc[:, \"accuracy\"].values\n",
    "    ax.scatter(x, y, label=sorter_name)\n",
    "ax.set_ylabel(\"accuracy\")\n",
    "ax.set_xlabel(\"snr\")\n",
    "ax.legend()\n"
   ]
  },
  {
   "cell_type": "markdown",
   "metadata": {},
   "source": [
    "## Step 5 : agreement between sorters\n",
    "\n",
    "What if we have several spike sorting algorithms, and want to quickly compare each of them? The comparison could be performed on a single recording, and/or or various recordings at once, to get a more global comparison. \n",
    "\n",
    "Let's first start with the simple case of a single comparison, on a single recording. As said, you can easily, with spikeinterface, compare the results accross sorters. To do so, the simplest option is to launch the sorters individually, and compare the results via a so-called aggrement study"
   ]
  },
  {
   "cell_type": "code",
   "execution_count": 42,
   "metadata": {},
   "outputs": [
    {
     "data": {
      "text/plain": [
       "<spikeinterface.widgets.multicomparison.MultiCompAgreementBySorterWidget at 0x7bf8bad73950>"
      ]
     },
     "execution_count": 42,
     "metadata": {},
     "output_type": "execute_result"
    },
    {
     "data": {
      "image/png": "[encoded data removed]",
      "text/plain": [
       "<Figure size 640x480 with 1 Axes>"
      ]
     },
     "metadata": {},
     "output_type": "display_data"
    },
    {
     "data": {
      "image/png": "[encoded data removed]",
      "text/plain": [
       "<Figure size 640x480 with 2 Axes>"
      ]
     },
     "metadata": {},
     "output_type": "display_data"
    }
   ],
   "source": [
    "multi_comp = si.compare_multiple_sorters(list(sortings.values()), sorter_names)\n",
    "si.plot_multicomparison_agreement(multi_comp)\n",
    "si.plot_multicomparison_agreement_by_sorter(multi_comp)"
   ]
  },
  {
   "cell_type": "code",
   "execution_count": null,
   "metadata": {},
   "outputs": [],
   "source": []
  }
 ],
 "metadata": {
  "kernelspec": {
   "display_name": "py3.11",
   "language": "python",
   "name": "python3"
  },
  "language_info": {
   "codemirror_mode": {
    "name": "ipython",
    "version": 3
   },
   "file_extension": ".py",
   "mimetype": "text/x-python",
   "name": "python",
   "nbconvert_exporter": "python",
   "pygments_lexer": "ipython3",
   "version": "3.11.0rc1"
  }
 },
 "nbformat": 4,
 "nbformat_minor": 2
}
