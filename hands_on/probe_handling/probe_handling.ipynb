{
 "cells": [
  {
   "cell_type": "markdown",
   "metadata": {},
   "source": [
    "# Working with Probes \n",
    "\n",
    "\n",
    "probeinterface is a tool to handle the design of the probe layout, that will be used by all modern spike sorting algorithms. Indeed, since spike sorters are making use of the spatial positions of the channels to reconstruct the extracellular waveforms elicited during the spike of a single cell, it is crucial to know where channels are located. If you are lucky, then such a probe layout is already available, and you can use it instantaneously (e.g. `spikeinterface.extractors.read_spikeglx()`). But most of the time, depending on your recording setup/probe, you need to create one. In such a file, you must specify what your channels are, where they are in space, and what is the mapping between your recording file and the recording setup.\n",
    "\n",
    "For this tutorial and exercise feel free to have a look at\n",
    "\n",
    "  * [probeinterface documentation](https://probeinterface.readthedocs.io/en/main/)\n",
    "  * [probeinterface examples](https://probeinterface.readthedocs.io/en/main/examples/index.html)\n"
   ]
  },
  {
   "cell_type": "code",
   "execution_count": null,
   "metadata": {},
   "outputs": [],
   "source": [
    "%matplotlib inline\n",
    "# %matplotlib widget"
   ]
  },
  {
   "cell_type": "code",
   "execution_count": null,
   "metadata": {},
   "outputs": [],
   "source": [
    "# import probeinterface and spikeinterface (core module)\n",
    "import probeinterface as pi\n",
    "import spikeinterface as si\n",
    "\n",
    "# import for dataframe and vector interaction\n",
    "import numpy as np \n",
    "import pandas as pd\n",
    "\n",
    "# import plotting libraries\n",
    "from probeinterface.plotting import plot_probe\n",
    "import matplotlib.pyplot as plt"
   ]
  },
  {
   "cell_type": "markdown",
   "metadata": {},
   "source": [
    "## Getting an already implemented Probe (e.g. from the Cambridge Neurotech catalog)\n",
    "\n",
    "In this case we just need to specify a `manufacturer` and a `probe_name` in order to have probeinterface automatically \n",
    "get the probe.\n",
    "* See the currently available probes in the [probeinterface_library](https://github.com/SpikeInterface/probeinterface_library)\n",
    "* If you don't see your lab's probe. Help us out and submit a probe design with the knowledge gained from this workshop!!\n",
    "\n",
    "\n",
    "#### Let's start by grabbing a probe from Cambridge Neurotech and looking at the number of channels and shanks it has!"
   ]
  },
  {
   "cell_type": "code",
   "execution_count": null,
   "metadata": {},
   "outputs": [],
   "source": [
    "manufacturer = 'cambridgeneurotech'\n",
    "probe_name = 'ASSY-236-H6'\n",
    "\n",
    "probe = pi.get_probe(manufacturer, probe_name)\n",
    "print(probe)"
   ]
  },
  {
   "cell_type": "markdown",
   "metadata": {},
   "source": [
    "#### Next, we can plot our probe by using the convenient plotting functions within probeinterface's `plotting` submodule."
   ]
  },
  {
   "cell_type": "code",
   "execution_count": null,
   "metadata": {},
   "outputs": [],
   "source": [
    "fig, ax = plt.subplots(figsize=(8,8))\n",
    "plot_probe(probe, ax=ax)\n",
    "# plot_probe(probe, with_contact_id=True)"
   ]
  },
  {
   "cell_type": "markdown",
   "metadata": {},
   "source": [
    "## `contact_ids` are the actual electrode contacts on the Probe itself\n",
    "\n",
    "By setting `with_contact_id=True` in our `plot_probe` function we are able to display the `contact_ids` of the probe. These are the numbers that you find in the catalog and correspond\n",
    "to the actual location in space. **Importantly** these are not the numbers that appear in the recording software. This is a real important point so let's dig into that!"
   ]
  },
  {
   "cell_type": "code",
   "execution_count": null,
   "metadata": {},
   "outputs": [],
   "source": [
    "fig, ax = plt.subplots(figsize=(8,8))\n",
    "plot_probe(probe, ax=ax, with_contact_id=True)"
   ]
  },
  {
   "cell_type": "markdown",
   "metadata": {},
   "source": [
    "## Wiring to the device! (aka pathway or mapping)\n",
    "\n",
    "In order to go from the probe to the actual recording data requires us to map between the probe, any adaptors, and the recording equipment. Luckily for us probeinterface allows us to do this wiring automatically (for a subset of probes)!\n",
    "\n",
    "To see the currently available pathways we use the `get_available_pathways()` function. It's important to notice that the pathway has multiple components. We have the probe which for Cambridge Neurotech begins with `ASSY` followed by either the headstage or an adaptor and then headstage (`Adpt` for adaptor and `RHD` are the commonly used Intan headstages). The components of the pathway are seperated by `>`."
   ]
  },
  {
   "cell_type": "code",
   "execution_count": null,
   "metadata": {},
   "outputs": [],
   "source": [
    "print(pi.get_available_pathways())"
   ]
  },
  {
   "cell_type": "markdown",
   "metadata": {},
   "source": [
    "Now let's wire our probe to our headstage recording equipment. Let's use `cambridgeneurotech_mini-amp-64` and then see what our probe looks like now!"
   ]
  },
  {
   "cell_type": "code",
   "execution_count": null,
   "metadata": {},
   "outputs": [],
   "source": [
    "probe.wiring_to_device('cambridgeneurotech_mini-amp-64')\n",
    "print(probe)"
   ]
  },
  {
   "cell_type": "markdown",
   "metadata": {},
   "source": [
    "So the probe doesn't look any different, but let's plot it. But now instead of looking at the `contact_ids` let's look at the `device_channel_indices` which are the numbers associated with the actual columns of your data!"
   ]
  },
  {
   "cell_type": "code",
   "execution_count": null,
   "metadata": {},
   "outputs": [],
   "source": [
    "fig, ax = plt.subplots(figsize=(8,8))\n",
    "plot_probe(probe, ax=ax, with_device_index=True)"
   ]
  },
  {
   "cell_type": "markdown",
   "metadata": {},
   "source": [
    "And so we can see that the `contact_ids` and the `device_channel_indices` are different let's plot them together!\n",
    "\n",
    "To make it easier to view we will display just one shank!"
   ]
  },
  {
   "cell_type": "code",
   "execution_count": null,
   "metadata": {},
   "outputs": [],
   "source": [
    "fig, ax = plt.subplots(figsize=(10,10))\n",
    "plot_probe(probe, ax=ax, with_contact_id=True, with_device_index=True)\n",
    "ax.set_xlim(-20,50)\n",
    "ax.set_ylim(-10,420)"
   ]
  },
  {
   "cell_type": "markdown",
   "metadata": {},
   "source": [
    "We can also view this information in a Pandas dataframe using the `to_dataframe()` function!"
   ]
  },
  {
   "cell_type": "code",
   "execution_count": null,
   "metadata": {},
   "outputs": [],
   "source": [
    "probe.to_dataframe(complete=True).loc[:, [\"contact_ids\", \"shank_ids\", \"device_channel_indices\"]]"
   ]
  },
  {
   "cell_type": "markdown",
   "metadata": {},
   "source": [
    "## Importantly, the probe slices the recording object\n",
    "\n",
    "Each recording has a series of `channel_ids` that indicate the organization of the recording data matrix. To go from the contact positions (`contact_ids`) to the `channel_ids` we have the `device_channel_indices`. But \n",
    "since some recordings have additional channels (e.g. ADC data) when we attach a probe to a recording we actually make a slice of the recording object!. To show this we can easily make a simulated recording with 72 channels."
   ]
  },
  {
   "cell_type": "code",
   "execution_count": null,
   "metadata": {},
   "outputs": [],
   "source": [
    "raw_recording = si.generate_recording(durations = [60.0], sampling_frequency=30_000.0, num_channels=72, seed=1776, set_probe=False)\n",
    "raw_recording"
   ]
  },
  {
   "cell_type": "markdown",
   "metadata": {},
   "source": [
    "We know our probe only has 64 channels.\n",
    "\n",
    "If we attach our probe to the recording using the `set_probe()` function we will see that our recording with the probe only has the 64 channels of our probe.\n",
    "The original recording has been sliced!"
   ]
  },
  {
   "cell_type": "code",
   "execution_count": null,
   "metadata": {},
   "outputs": [],
   "source": [
    "raw_rec_w_probe = raw_recording.set_probe(probe)\n",
    "print(raw_recording)\n",
    "print(raw_rec_w_probe)"
   ]
  },
  {
   "cell_type": "code",
   "execution_count": null,
   "metadata": {},
   "outputs": [],
   "source": [
    "print(\"Raw Recording Channels\\n\", raw_recording.channel_ids, \"\\n\")\n",
    "print(\"Sliced Recording Channels\\n\", raw_rec_w_probe.channel_ids)"
   ]
  },
  {
   "cell_type": "markdown",
   "metadata": {},
   "source": [
    "Please also note that the probe is reversed to match the order of the recording!"
   ]
  },
  {
   "cell_type": "code",
   "execution_count": null,
   "metadata": {},
   "outputs": [],
   "source": [
    "probe_rec = raw_rec_w_probe.get_probe()\n",
    "probe_rec.to_dataframe(complete=True).loc[:, [\"contact_ids\", \"device_channel_indices\"]]"
   ]
  },
  {
   "cell_type": "markdown",
   "metadata": {},
   "source": [
    "# Exercise Implement our own Probe!\n",
    "\n",
    "Because not every probe and every wiring pathway is implemented (yet!) in probeinterface you may need to 1) make your own probe and 2) wire it manually. For the hands on portion of this session we will do this will a Neuronexus probe."
   ]
  },
  {
   "cell_type": "markdown",
   "metadata": {},
   "source": [
    "## Let's implement the neuronexus A1x32-Poly2-10mm-50s-177 probe manually\n",
    "\n",
    "\n",
    "  * https://www.neuronexus.com/files/catalog/2021-Probe-Catalog.pdf\n",
    "\n",
    "\n",
    "\n",
    "<img src=\"./neuronexus_A1xPoly32.png\" width=\"400\"/>\n",
    "\n"
   ]
  },
  {
   "cell_type": "markdown",
   "metadata": {},
   "source": [
    "## Step 1 : constructing a probe from channel positions\n",
    "\n",
    "using the `Probe()` object, some methods such as\n",
    "  * `Probe.set_contacts()`\n",
    "  * `Probe.set_contact_ids()`\n",
    "and using the file **'A1x32-Poly2-10mm-50s-177.csv'** let's try to construct the probe as an exercise.\n",
    "\n",
    "Once this is done, then plot it with `plot_probe()` and use the `with_contact_id=True` option.\n",
    "\n",
    "To start let's just read in a dataframe with pandas of the probe!\n"
   ]
  },
  {
   "cell_type": "code",
   "execution_count": null,
   "metadata": {},
   "outputs": [],
   "source": [
    "df = pd.read_csv('A1x32-Poly2-10mm-50s-177.csv')\n",
    "df"
   ]
  },
  {
   "cell_type": "markdown",
   "metadata": {},
   "source": [
    "Then we extract the positional data from the dataframe, create a probe, set those contacts and then give them a `contact_id`."
   ]
  },
  {
   "cell_type": "code",
   "execution_count": null,
   "metadata": {},
   "outputs": [],
   "source": [
    "positions = df[['x', 'y']].values\n",
    "probe = pi.Probe(ndim=2, si_units='um')\n",
    "probe.set_contacts(positions=positions, shapes='circle', shape_params={'radius': 7.5})\n",
    "probe.set_contact_ids(df['contact_ids'].values)\n",
    "probe"
   ]
  },
  {
   "cell_type": "markdown",
   "metadata": {},
   "source": [
    "Now that we've created our probe object let's plot it and see how we did."
   ]
  },
  {
   "cell_type": "code",
   "execution_count": null,
   "metadata": {},
   "outputs": [],
   "source": [
    "plot_probe(probe, with_contact_id=True)"
   ]
  },
  {
   "cell_type": "markdown",
   "metadata": {},
   "source": [
    "### *Extra Feature: Step 1 : alternative method*\n",
    "\n",
    "using the `Probe()` object, some methods such as\n",
    "  * `Probe.from_dataframe()`\n"
   ]
  },
  {
   "cell_type": "code",
   "execution_count": null,
   "metadata": {},
   "outputs": [],
   "source": [
    "df = pd.read_csv('A1x32-Poly2-10mm-50s-177.csv')\n",
    "df['contact_shapes'] = 'circle'\n",
    "df['radius'] = 7.5\n",
    "\n",
    "df.head()"
   ]
  },
  {
   "cell_type": "code",
   "execution_count": null,
   "metadata": {},
   "outputs": [],
   "source": [
    "probe = pi.Probe.from_dataframe(df)\n",
    "probe"
   ]
  },
  {
   "cell_type": "code",
   "execution_count": null,
   "metadata": {},
   "outputs": [],
   "source": [
    "plot_probe(probe, with_contact_id=False)"
   ]
  },
  {
   "cell_type": "markdown",
   "metadata": {},
   "source": [
    "## Step 2 : setting the contour of your probe\n",
    "\n",
    "As you can see, you need to specify a contour for your probe. Contour can be set :\n",
    "  * automatically with dummy shape `probe.create_auto_shape()`\n",
    "  * or manually with `probe.set_planar_contour'()`\n",
    "\n",
    "\n",
    "Here is the polygon shape of our probe, that can be reused later: \n",
    "\n",
    "```python\n",
    "contour_polygon =  [[-25, 800],\n",
    "                   [-11, 0],\n",
    "                   [43.3/2, -75.],\n",
    "                   [54.3, 0],\n",
    "                   [68.3, 800]]\n",
    "```\n"
   ]
  },
  {
   "cell_type": "code",
   "execution_count": null,
   "metadata": {},
   "outputs": [],
   "source": [
    "probe.create_auto_shape()\n",
    "plot_probe(probe, with_contact_id=True)"
   ]
  },
  {
   "cell_type": "code",
   "execution_count": null,
   "metadata": {},
   "outputs": [],
   "source": [
    "contour_polygon = [[-25, 800],\n",
    "                   [-11, 0],\n",
    "                   [43.3/2, -75.],\n",
    "                   [54.3, 0],\n",
    "                   [68.3, 800]]\n",
    "probe.set_planar_contour(contour_polygon)\n",
    "plot_probe(probe, with_contact_id=True)"
   ]
  },
  {
   "cell_type": "markdown",
   "metadata": {},
   "source": [
    "## Step 3 : saving \"probe unwired\" into a json file\n",
    "\n",
    "Using the function `write_probeinterface()`, you can save the probe to a file. Inspect the file and have a look to the way this is constructed."
   ]
  },
  {
   "cell_type": "code",
   "execution_count": null,
   "metadata": {},
   "outputs": [],
   "source": [
    "pi.write_probeinterface('A1x32-Poly2-10mm-50s-177_unwired.json', probe)"
   ]
  },
  {
   "cell_type": "code",
   "execution_count": null,
   "metadata": {},
   "outputs": [],
   "source": [
    "# this is a Unix-style command. It won't work on Windows\n",
    "!head -25 A1x32-Poly2-10mm-50s-177_unwired.json\n",
    "\n",
    "# for Windows cmd prompt we can only use \"more\"\n",
    "# but since Windows has 3 different terminal apps this depends on many factors which command will work\n",
    "# !more -25 A1x32-Poly2-10mm-50s-177_unwired.json"
   ]
  },
  {
   "cell_type": "markdown",
   "metadata": {},
   "source": [
    "## Step 4 : wiring to device channel (aka pathway or mapping)\n",
    "\n",
    "Now lets do the \"wiring\" aka channel mapping. Lets connect our probe to an RHD2132 Intan headstage with the H32 connector.\n",
    "\n",
    "You can get some help by looking at https://intantech.com/RHD_headstages.html?tabSelect=RHD32ch&yPos=0\n",
    "\n",
    "And also, note that the mapping depends on the connector of the probe, see this https://www.neuronexus.com/files/probemapping/32-channel/H32-Maps.pdf\n",
    "\n",
    "\n",
    "<img src=\"./Intan_RDH2132_overview.png\" width=\"400\"/>\n",
    "<img src=\"./Intan_RDH2132_connector_pineout.png\" width=\"400\"/>\n",
    "<img src=\"./H32_neuronexus_connector_omnetics.png\" width=\"400\"/>\n",
    "\n",
    "\n",
    "Probeinterface has 2 ways to make the mapping:\n",
    "\n",
    " 1. Manually with : `probe.set_device_channel_indices()`\n",
    " 2. Automatically with `probe.wiring_to_device()`\n",
    " \n",
    "  \n",
    "Use the `with_contact_id=True` and `with_device_index=True` option for plot_probe. Check with dataframe the mapping.\n",
    "\n",
    "It is **super important** to remember that the `channel_ids` and the `device_channel_indices` are not the same numbers so the mapping is the only way we can connect \n",
    "the position of an electrode contact and a row in the data matrix!!\n"
   ]
  },
  {
   "cell_type": "code",
   "execution_count": null,
   "metadata": {},
   "outputs": [],
   "source": [
    "manual_mapping = [\n",
    "    16, 17, 18, 20, 21, 22, 31, 30, 29, 27, 26, 25, 24, 28, 23, 19,\n",
    "    12, 8, 3, 7, 6, 5, 4, 2, 1, 0, 9, 10, 11, 13, 14, 15]\n",
    "probe.set_device_channel_indices(manual_mapping)\n",
    "fig, ax = plt.subplots(figsize=(10,10))\n",
    "plot_probe(probe, with_contact_id=True, with_device_index=True, ax=ax)"
   ]
  },
  {
   "cell_type": "markdown",
   "metadata": {},
   "source": [
    "Now the manual mapping required us to carefully link up those numbers, but feel free as an exercise to change the order of the mapping number and see how it changes the correspondance between `contact_ids` and `device_channel_indices`. Since we already have this mapping done automatically as an available pathway you can check to see the difference these changes make!"
   ]
  },
  {
   "cell_type": "code",
   "execution_count": null,
   "metadata": {},
   "outputs": [],
   "source": [
    "probe.to_dataframe(complete=True)"
   ]
  },
  {
   "cell_type": "code",
   "execution_count": null,
   "metadata": {},
   "outputs": [],
   "source": [
    "probe.wiring_to_device('H32>RHD2132')\n",
    "fig, ax = plt.subplots(figsize=(10,10),)\n",
    "plot_probe(probe, with_contact_id=True, with_device_index=True, ax=ax)\n"
   ]
  },
  {
   "cell_type": "code",
   "execution_count": null,
   "metadata": {},
   "outputs": [],
   "source": [
    "probe_df = probe.to_dataframe(complete=True)\n",
    "probe_df"
   ]
  },
  {
   "cell_type": "markdown",
   "metadata": {},
   "source": [
    "## Step 5 : saving the \"probe wired\" into json\n",
    "\n",
    "Now that the probe has been wired, let's save it into a file and inspect the resulting file"
   ]
  },
  {
   "cell_type": "code",
   "execution_count": null,
   "metadata": {},
   "outputs": [],
   "source": [
    "pi.write_probeinterface('A1x32-Poly2-10mm-50s-177_wired.json', probe)"
   ]
  },
  {
   "cell_type": "code",
   "execution_count": null,
   "metadata": {},
   "outputs": [],
   "source": [
    "!head -25 A1x32-Poly2-10mm-50s-177_unwired.json\n",
    "\n",
    "# Again for Windows may need to test commands like !more or !type A1x32-Poly2-10mm-50s-177_unwired.json Head -20"
   ]
  },
  {
   "cell_type": "markdown",
   "metadata": {},
   "source": [
    "### *Extra Feature: Probegroups*\n",
    "\n",
    "These days many probes bought off the shelf come with multiple shanks. The probeinterface library handles this with the concept of Shanks and ProbeGroups.\n",
    "In this case we have functions which mirror those that are important for probes. We can download a probe from a manufacturer and then set up a \n",
    "probegroup. For this example we will duplicate a an H6 from Cambridge Neurotech since this is a purchasing option."
   ]
  },
  {
   "cell_type": "code",
   "execution_count": null,
   "metadata": {},
   "outputs": [],
   "source": [
    "manufacturer = 'cambridgeneurotech'\n",
    "probe_name = 'ASSY-236-H6'\n",
    "\n",
    "probe = pi.get_probe(manufacturer, probe_name)\n",
    "print(probe)"
   ]
  },
  {
   "cell_type": "markdown",
   "metadata": {},
   "source": [
    "We can easily just copy the probe and place it as it would be if you bought a stacked probe. First we indicate that this will be a 3d probe."
   ]
  },
  {
   "cell_type": "code",
   "execution_count": null,
   "metadata": {},
   "outputs": [],
   "source": [
    "probe1 = probe.copy()\n",
    "probe = probe.to_3d()\n",
    "probe1 = probe1.to_3d()\n",
    "probe1.move([0, 200, 0])"
   ]
  },
  {
   "cell_type": "markdown",
   "metadata": {},
   "source": [
    "Now we setup our wiring. Let's say that we have a standard Intan 64 channel headstage with an omenetics connector."
   ]
  },
  {
   "cell_type": "code",
   "execution_count": null,
   "metadata": {},
   "outputs": [],
   "source": [
    "wiring = pi.wiring.pathways[\"ASSY-77>Adpt.A64-Om32_2x-sm-NN>RHD2164\"]\n",
    "wiring_group = wiring + list(np.array(wiring)+64)\n",
    "\n",
    "probegroup = pi.ProbeGroup()\n",
    "probegroup.add_probe(probe)\n",
    "probegroup.add_probe(probe1)\n",
    "probegroup.set_global_device_channel_indices(wiring_group)\n",
    "print(probegroup)"
   ]
  },
  {
   "cell_type": "markdown",
   "metadata": {},
   "source": [
    "We can now plot our `probegroup`.We can look at it in 3d or look at each probe within the probe group on it's own set of axes with contact_ids"
   ]
  },
  {
   "cell_type": "code",
   "execution_count": null,
   "metadata": {},
   "outputs": [],
   "source": [
    "from probeinterface.plotting import plot_probe_group\n",
    "\n",
    "plot_probe_group(probegroup)"
   ]
  }
 ],
 "metadata": {
  "kernelspec": {
   "display_name": "Python 3 (ipykernel)",
   "language": "python",
   "name": "python3"
  },
  "language_info": {
   "codemirror_mode": {
    "name": "ipython",
    "version": 3
   },
   "file_extension": ".py",
   "mimetype": "text/x-python",
   "name": "python",
   "nbconvert_exporter": "python",
   "pygments_lexer": "ipython3",
   "version": "3.11.4"
  }
 },
 "nbformat": 4,
 "nbformat_minor": 4
}
